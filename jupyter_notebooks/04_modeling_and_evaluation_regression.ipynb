{
 "cells": [
  {
   "cell_type": "markdown",
   "id": "3fe265d4",
   "metadata": {},
   "source": [
    "# **Modeling and Evaluation (Regression) Notebook**"
   ]
  },
  {
   "cell_type": "markdown",
   "id": "afff58a9",
   "metadata": {},
   "source": [
    "## Objectives\n",
    "- Fit and evaluate a regression model to predict the Sales Price for a house in Ames, Iowa\n",
    "\n",
    "## Inputs\n",
    "- outputs/data_collected/house_oricing_data.csv\n",
    "- Instructions on which variables to use for data cleaning and feature engineering. They are found in notebook 01 - 03.\n",
    "\n",
    "## Outputs\n",
    "- Train set\n",
    "- Test set\n",
    "- Data cleaning and Feature Engineering pipeline\n",
    "- Modeling pipeline\n",
    "\n",
    "\n",
    "---"
   ]
  },
  {
   "cell_type": "markdown",
   "id": "9b4a2413",
   "metadata": {},
   "source": [
    "## Change working directory"
   ]
  },
  {
   "cell_type": "markdown",
   "id": "72f0ef91",
   "metadata": {},
   "source": [
    "We need to change the working directory from its current folder to its parent folder\n",
    "* We access the current directory with os.getcwd()"
   ]
  },
  {
   "cell_type": "code",
   "execution_count": 2,
   "id": "07c8dfc0",
   "metadata": {},
   "outputs": [
    {
     "data": {
      "text/plain": [
       "'/workspaces/ci-c5-housing-market-prices/jupyter_notebooks'"
      ]
     },
     "execution_count": 2,
     "metadata": {},
     "output_type": "execute_result"
    }
   ],
   "source": [
    "import os\n",
    "current_dir = os.getcwd()\n",
    "current_dir"
   ]
  },
  {
   "cell_type": "code",
   "execution_count": 3,
   "id": "9bc2473f",
   "metadata": {},
   "outputs": [
    {
     "name": "stdout",
     "output_type": "stream",
     "text": [
      "You set a new current directory\n"
     ]
    }
   ],
   "source": [
    "os.chdir(os.path.dirname(current_dir))\n",
    "print(\"You set a new current directory\")"
   ]
  },
  {
   "cell_type": "code",
   "execution_count": 4,
   "id": "674e9597",
   "metadata": {},
   "outputs": [
    {
     "data": {
      "text/plain": [
       "'/workspaces/ci-c5-housing-market-prices'"
      ]
     },
     "execution_count": 4,
     "metadata": {},
     "output_type": "execute_result"
    }
   ],
   "source": [
    "current_dir = os.getcwd()\n",
    "current_dir"
   ]
  },
  {
   "cell_type": "markdown",
   "id": "e6cd60fa",
   "metadata": {},
   "source": [
    "---"
   ]
  },
  {
   "cell_type": "markdown",
   "id": "1417e9d1",
   "metadata": {},
   "source": [
    "## Step 1: Load data"
   ]
  },
  {
   "cell_type": "code",
   "execution_count": 5,
   "id": "380ca8c4",
   "metadata": {},
   "outputs": [
    {
     "name": "stdout",
     "output_type": "stream",
     "text": [
      "(1460, 24)\n"
     ]
    },
    {
     "data": {
      "text/html": [
       "<div>\n",
       "<style scoped>\n",
       "    .dataframe tbody tr th:only-of-type {\n",
       "        vertical-align: middle;\n",
       "    }\n",
       "\n",
       "    .dataframe tbody tr th {\n",
       "        vertical-align: top;\n",
       "    }\n",
       "\n",
       "    .dataframe thead th {\n",
       "        text-align: right;\n",
       "    }\n",
       "</style>\n",
       "<table border=\"1\" class=\"dataframe\">\n",
       "  <thead>\n",
       "    <tr style=\"text-align: right;\">\n",
       "      <th></th>\n",
       "      <th>1stFlrSF</th>\n",
       "      <th>2ndFlrSF</th>\n",
       "      <th>BedroomAbvGr</th>\n",
       "      <th>BsmtExposure</th>\n",
       "      <th>BsmtFinSF1</th>\n",
       "      <th>BsmtFinType1</th>\n",
       "      <th>BsmtUnfSF</th>\n",
       "      <th>EnclosedPorch</th>\n",
       "      <th>GarageArea</th>\n",
       "      <th>GarageFinish</th>\n",
       "      <th>...</th>\n",
       "      <th>LotFrontage</th>\n",
       "      <th>MasVnrArea</th>\n",
       "      <th>OpenPorchSF</th>\n",
       "      <th>OverallCond</th>\n",
       "      <th>OverallQual</th>\n",
       "      <th>TotalBsmtSF</th>\n",
       "      <th>WoodDeckSF</th>\n",
       "      <th>YearBuilt</th>\n",
       "      <th>YearRemodAdd</th>\n",
       "      <th>SalePrice</th>\n",
       "    </tr>\n",
       "  </thead>\n",
       "  <tbody>\n",
       "    <tr>\n",
       "      <th>0</th>\n",
       "      <td>856</td>\n",
       "      <td>854.0</td>\n",
       "      <td>3.0</td>\n",
       "      <td>No</td>\n",
       "      <td>706</td>\n",
       "      <td>GLQ</td>\n",
       "      <td>150</td>\n",
       "      <td>0.0</td>\n",
       "      <td>548</td>\n",
       "      <td>RFn</td>\n",
       "      <td>...</td>\n",
       "      <td>65.0</td>\n",
       "      <td>196.0</td>\n",
       "      <td>61</td>\n",
       "      <td>5</td>\n",
       "      <td>7</td>\n",
       "      <td>856</td>\n",
       "      <td>0.0</td>\n",
       "      <td>2003</td>\n",
       "      <td>2003</td>\n",
       "      <td>208500</td>\n",
       "    </tr>\n",
       "    <tr>\n",
       "      <th>1</th>\n",
       "      <td>1262</td>\n",
       "      <td>0.0</td>\n",
       "      <td>3.0</td>\n",
       "      <td>Gd</td>\n",
       "      <td>978</td>\n",
       "      <td>ALQ</td>\n",
       "      <td>284</td>\n",
       "      <td>NaN</td>\n",
       "      <td>460</td>\n",
       "      <td>RFn</td>\n",
       "      <td>...</td>\n",
       "      <td>80.0</td>\n",
       "      <td>0.0</td>\n",
       "      <td>0</td>\n",
       "      <td>8</td>\n",
       "      <td>6</td>\n",
       "      <td>1262</td>\n",
       "      <td>NaN</td>\n",
       "      <td>1976</td>\n",
       "      <td>1976</td>\n",
       "      <td>181500</td>\n",
       "    </tr>\n",
       "    <tr>\n",
       "      <th>2</th>\n",
       "      <td>920</td>\n",
       "      <td>866.0</td>\n",
       "      <td>3.0</td>\n",
       "      <td>Mn</td>\n",
       "      <td>486</td>\n",
       "      <td>GLQ</td>\n",
       "      <td>434</td>\n",
       "      <td>0.0</td>\n",
       "      <td>608</td>\n",
       "      <td>RFn</td>\n",
       "      <td>...</td>\n",
       "      <td>68.0</td>\n",
       "      <td>162.0</td>\n",
       "      <td>42</td>\n",
       "      <td>5</td>\n",
       "      <td>7</td>\n",
       "      <td>920</td>\n",
       "      <td>NaN</td>\n",
       "      <td>2001</td>\n",
       "      <td>2002</td>\n",
       "      <td>223500</td>\n",
       "    </tr>\n",
       "  </tbody>\n",
       "</table>\n",
       "<p>3 rows × 24 columns</p>\n",
       "</div>"
      ],
      "text/plain": [
       "   1stFlrSF  2ndFlrSF  BedroomAbvGr BsmtExposure  BsmtFinSF1 BsmtFinType1  \\\n",
       "0       856     854.0           3.0           No         706          GLQ   \n",
       "1      1262       0.0           3.0           Gd         978          ALQ   \n",
       "2       920     866.0           3.0           Mn         486          GLQ   \n",
       "\n",
       "   BsmtUnfSF  EnclosedPorch  GarageArea GarageFinish  ...  LotFrontage  \\\n",
       "0        150            0.0         548          RFn  ...         65.0   \n",
       "1        284            NaN         460          RFn  ...         80.0   \n",
       "2        434            0.0         608          RFn  ...         68.0   \n",
       "\n",
       "   MasVnrArea OpenPorchSF  OverallCond  OverallQual  TotalBsmtSF  WoodDeckSF  \\\n",
       "0       196.0          61            5            7          856         0.0   \n",
       "1         0.0           0            8            6         1262         NaN   \n",
       "2       162.0          42            5            7          920         NaN   \n",
       "\n",
       "   YearBuilt  YearRemodAdd  SalePrice  \n",
       "0       2003          2003     208500  \n",
       "1       1976          1976     181500  \n",
       "2       2001          2002     223500  \n",
       "\n",
       "[3 rows x 24 columns]"
      ]
     },
     "execution_count": 5,
     "metadata": {},
     "output_type": "execute_result"
    }
   ],
   "source": [
    "import numpy as np\n",
    "import pandas as pd\n",
    "df = (pd.read_csv(\"outputs/data_collected/house_pricing_data.csv\")  \n",
    "  )\n",
    "\n",
    "print(df.shape)\n",
    "df.head(3)"
   ]
  },
  {
   "cell_type": "markdown",
   "id": "3b2daeda",
   "metadata": {},
   "source": [
    "---"
   ]
  },
  {
   "cell_type": "markdown",
   "id": "dad1fc3e",
   "metadata": {},
   "source": [
    "## Step 2: ML Pipeline with all relevant data"
   ]
  },
  {
   "cell_type": "markdown",
   "id": "e4413325",
   "metadata": {},
   "source": [
    "ML pipeline for Data Cleaning and Feature Engineering"
   ]
  },
  {
   "cell_type": "code",
   "execution_count": 8,
   "id": "64e14d64",
   "metadata": {},
   "outputs": [
    {
     "data": {
      "text/html": [
       "<style>#sk-container-id-1 {color: black;}#sk-container-id-1 pre{padding: 0;}#sk-container-id-1 div.sk-toggleable {background-color: white;}#sk-container-id-1 label.sk-toggleable__label {cursor: pointer;display: block;width: 100%;margin-bottom: 0;padding: 0.3em;box-sizing: border-box;text-align: center;}#sk-container-id-1 label.sk-toggleable__label-arrow:before {content: \"▸\";float: left;margin-right: 0.25em;color: #696969;}#sk-container-id-1 label.sk-toggleable__label-arrow:hover:before {color: black;}#sk-container-id-1 div.sk-estimator:hover label.sk-toggleable__label-arrow:before {color: black;}#sk-container-id-1 div.sk-toggleable__content {max-height: 0;max-width: 0;overflow: hidden;text-align: left;background-color: #f0f8ff;}#sk-container-id-1 div.sk-toggleable__content pre {margin: 0.2em;color: black;border-radius: 0.25em;background-color: #f0f8ff;}#sk-container-id-1 input.sk-toggleable__control:checked~div.sk-toggleable__content {max-height: 200px;max-width: 100%;overflow: auto;}#sk-container-id-1 input.sk-toggleable__control:checked~label.sk-toggleable__label-arrow:before {content: \"▾\";}#sk-container-id-1 div.sk-estimator input.sk-toggleable__control:checked~label.sk-toggleable__label {background-color: #d4ebff;}#sk-container-id-1 div.sk-label input.sk-toggleable__control:checked~label.sk-toggleable__label {background-color: #d4ebff;}#sk-container-id-1 input.sk-hidden--visually {border: 0;clip: rect(1px 1px 1px 1px);clip: rect(1px, 1px, 1px, 1px);height: 1px;margin: -1px;overflow: hidden;padding: 0;position: absolute;width: 1px;}#sk-container-id-1 div.sk-estimator {font-family: monospace;background-color: #f0f8ff;border: 1px dotted black;border-radius: 0.25em;box-sizing: border-box;margin-bottom: 0.5em;}#sk-container-id-1 div.sk-estimator:hover {background-color: #d4ebff;}#sk-container-id-1 div.sk-parallel-item::after {content: \"\";width: 100%;border-bottom: 1px solid gray;flex-grow: 1;}#sk-container-id-1 div.sk-label:hover label.sk-toggleable__label {background-color: #d4ebff;}#sk-container-id-1 div.sk-serial::before {content: \"\";position: absolute;border-left: 1px solid gray;box-sizing: border-box;top: 0;bottom: 0;left: 50%;z-index: 0;}#sk-container-id-1 div.sk-serial {display: flex;flex-direction: column;align-items: center;background-color: white;padding-right: 0.2em;padding-left: 0.2em;position: relative;}#sk-container-id-1 div.sk-item {position: relative;z-index: 1;}#sk-container-id-1 div.sk-parallel {display: flex;align-items: stretch;justify-content: center;background-color: white;position: relative;}#sk-container-id-1 div.sk-item::before, #sk-container-id-1 div.sk-parallel-item::before {content: \"\";position: absolute;border-left: 1px solid gray;box-sizing: border-box;top: 0;bottom: 0;left: 50%;z-index: -1;}#sk-container-id-1 div.sk-parallel-item {display: flex;flex-direction: column;z-index: 1;position: relative;background-color: white;}#sk-container-id-1 div.sk-parallel-item:first-child::after {align-self: flex-end;width: 50%;}#sk-container-id-1 div.sk-parallel-item:last-child::after {align-self: flex-start;width: 50%;}#sk-container-id-1 div.sk-parallel-item:only-child::after {width: 0;}#sk-container-id-1 div.sk-dashed-wrapped {border: 1px dashed gray;margin: 0 0.4em 0.5em 0.4em;box-sizing: border-box;padding-bottom: 0.4em;background-color: white;}#sk-container-id-1 div.sk-label label {font-family: monospace;font-weight: bold;display: inline-block;line-height: 1.2em;}#sk-container-id-1 div.sk-label-container {text-align: center;}#sk-container-id-1 div.sk-container {/* jupyter's `normalize.less` sets `[hidden] { display: none; }` but bootstrap.min.css set `[hidden] { display: none !important; }` so we also need the `!important` here to be able to override the default hidden behavior on the sphinx rendered scikit-learn.org. See: https://github.com/scikit-learn/scikit-learn/issues/21755 */display: inline-block !important;position: relative;}#sk-container-id-1 div.sk-text-repr-fallback {display: none;}</style><div id=\"sk-container-id-1\" class=\"sk-top-container\"><div class=\"sk-text-repr-fallback\"><pre>Pipeline(steps=[(&#x27;DropUnwantedFeatures&#x27;,\n",
       "                 FunctionTransformer(func=&lt;function drop_unwanted_columns at 0x7c243550b2e0&gt;)),\n",
       "                (&#x27;ImputeMasVnrArea&#x27;,\n",
       "                 MeanMedianImputer(imputation_method=&#x27;mean&#x27;,\n",
       "                                   variables=[&#x27;MasVnrArea&#x27;])),\n",
       "                (&#x27;ImputeGarageFinish&#x27;,\n",
       "                 CategoricalImputer(variables=[&#x27;GarageFinish&#x27;])),\n",
       "                (&#x27;OrdinalCategoricalEncoder&#x27;,\n",
       "                 OrdinalEncoder(encoding_method=&#x27;arbitrary&#x27;,\n",
       "                                var...arageFinish&#x27;])),\n",
       "                (&#x27;SmartCorrelatedSelection&#x27;,\n",
       "                 SmartCorrelatedSelection(method=&#x27;spearman&#x27;,\n",
       "                                          selection_method=&#x27;variance&#x27;,\n",
       "                                          threshold=0.6,\n",
       "                                          variables=[&#x27;GarageFinish&#x27;,\n",
       "                                                     &#x27;TotalBsmtSF&#x27;,\n",
       "                                                     &#x27;MasVnrArea&#x27;,\n",
       "                                                     &#x27;OpenPorchSF&#x27;, &#x27;1stFlrSF&#x27;,\n",
       "                                                     &#x27;KitchenQual&#x27;,\n",
       "                                                     &#x27;YearRemodAdd&#x27;,\n",
       "                                                     &#x27;YearBuilt&#x27;,\n",
       "                                                     &#x27;GarageArea&#x27;])),\n",
       "                (&#x27;LogTransformation&#x27;,\n",
       "                 LogTransformer(base=&#x27;10&#x27;, variables=[&#x27;GrLivArea&#x27;]))],\n",
       "         verbose=True)</pre><b>In a Jupyter environment, please rerun this cell to show the HTML representation or trust the notebook. <br />On GitHub, the HTML representation is unable to render, please try loading this page with nbviewer.org.</b></div><div class=\"sk-container\" hidden><div class=\"sk-item sk-dashed-wrapped\"><div class=\"sk-label-container\"><div class=\"sk-label sk-toggleable\"><input class=\"sk-toggleable__control sk-hidden--visually\" id=\"sk-estimator-id-1\" type=\"checkbox\" ><label for=\"sk-estimator-id-1\" class=\"sk-toggleable__label sk-toggleable__label-arrow\">Pipeline</label><div class=\"sk-toggleable__content\"><pre>Pipeline(steps=[(&#x27;DropUnwantedFeatures&#x27;,\n",
       "                 FunctionTransformer(func=&lt;function drop_unwanted_columns at 0x7c243550b2e0&gt;)),\n",
       "                (&#x27;ImputeMasVnrArea&#x27;,\n",
       "                 MeanMedianImputer(imputation_method=&#x27;mean&#x27;,\n",
       "                                   variables=[&#x27;MasVnrArea&#x27;])),\n",
       "                (&#x27;ImputeGarageFinish&#x27;,\n",
       "                 CategoricalImputer(variables=[&#x27;GarageFinish&#x27;])),\n",
       "                (&#x27;OrdinalCategoricalEncoder&#x27;,\n",
       "                 OrdinalEncoder(encoding_method=&#x27;arbitrary&#x27;,\n",
       "                                var...arageFinish&#x27;])),\n",
       "                (&#x27;SmartCorrelatedSelection&#x27;,\n",
       "                 SmartCorrelatedSelection(method=&#x27;spearman&#x27;,\n",
       "                                          selection_method=&#x27;variance&#x27;,\n",
       "                                          threshold=0.6,\n",
       "                                          variables=[&#x27;GarageFinish&#x27;,\n",
       "                                                     &#x27;TotalBsmtSF&#x27;,\n",
       "                                                     &#x27;MasVnrArea&#x27;,\n",
       "                                                     &#x27;OpenPorchSF&#x27;, &#x27;1stFlrSF&#x27;,\n",
       "                                                     &#x27;KitchenQual&#x27;,\n",
       "                                                     &#x27;YearRemodAdd&#x27;,\n",
       "                                                     &#x27;YearBuilt&#x27;,\n",
       "                                                     &#x27;GarageArea&#x27;])),\n",
       "                (&#x27;LogTransformation&#x27;,\n",
       "                 LogTransformer(base=&#x27;10&#x27;, variables=[&#x27;GrLivArea&#x27;]))],\n",
       "         verbose=True)</pre></div></div></div><div class=\"sk-serial\"><div class=\"sk-item\"><div class=\"sk-estimator sk-toggleable\"><input class=\"sk-toggleable__control sk-hidden--visually\" id=\"sk-estimator-id-2\" type=\"checkbox\" ><label for=\"sk-estimator-id-2\" class=\"sk-toggleable__label sk-toggleable__label-arrow\">FunctionTransformer</label><div class=\"sk-toggleable__content\"><pre>FunctionTransformer(func=&lt;function drop_unwanted_columns at 0x7c243550b2e0&gt;)</pre></div></div></div><div class=\"sk-item\"><div class=\"sk-estimator sk-toggleable\"><input class=\"sk-toggleable__control sk-hidden--visually\" id=\"sk-estimator-id-3\" type=\"checkbox\" ><label for=\"sk-estimator-id-3\" class=\"sk-toggleable__label sk-toggleable__label-arrow\">MeanMedianImputer</label><div class=\"sk-toggleable__content\"><pre>MeanMedianImputer(imputation_method=&#x27;mean&#x27;, variables=[&#x27;MasVnrArea&#x27;])</pre></div></div></div><div class=\"sk-item\"><div class=\"sk-estimator sk-toggleable\"><input class=\"sk-toggleable__control sk-hidden--visually\" id=\"sk-estimator-id-4\" type=\"checkbox\" ><label for=\"sk-estimator-id-4\" class=\"sk-toggleable__label sk-toggleable__label-arrow\">CategoricalImputer</label><div class=\"sk-toggleable__content\"><pre>CategoricalImputer(variables=[&#x27;GarageFinish&#x27;])</pre></div></div></div><div class=\"sk-item\"><div class=\"sk-estimator sk-toggleable\"><input class=\"sk-toggleable__control sk-hidden--visually\" id=\"sk-estimator-id-5\" type=\"checkbox\" ><label for=\"sk-estimator-id-5\" class=\"sk-toggleable__label sk-toggleable__label-arrow\">OrdinalEncoder</label><div class=\"sk-toggleable__content\"><pre>OrdinalEncoder(encoding_method=&#x27;arbitrary&#x27;,\n",
       "               variables=[&#x27;KitchenQual&#x27;, &#x27;GarageFinish&#x27;])</pre></div></div></div><div class=\"sk-item\"><div class=\"sk-estimator sk-toggleable\"><input class=\"sk-toggleable__control sk-hidden--visually\" id=\"sk-estimator-id-6\" type=\"checkbox\" ><label for=\"sk-estimator-id-6\" class=\"sk-toggleable__label sk-toggleable__label-arrow\">SmartCorrelatedSelection</label><div class=\"sk-toggleable__content\"><pre>SmartCorrelatedSelection(method=&#x27;spearman&#x27;, selection_method=&#x27;variance&#x27;,\n",
       "                         threshold=0.6,\n",
       "                         variables=[&#x27;GarageFinish&#x27;, &#x27;TotalBsmtSF&#x27;, &#x27;MasVnrArea&#x27;,\n",
       "                                    &#x27;OpenPorchSF&#x27;, &#x27;1stFlrSF&#x27;, &#x27;KitchenQual&#x27;,\n",
       "                                    &#x27;YearRemodAdd&#x27;, &#x27;YearBuilt&#x27;, &#x27;GarageArea&#x27;])</pre></div></div></div><div class=\"sk-item\"><div class=\"sk-estimator sk-toggleable\"><input class=\"sk-toggleable__control sk-hidden--visually\" id=\"sk-estimator-id-7\" type=\"checkbox\" ><label for=\"sk-estimator-id-7\" class=\"sk-toggleable__label sk-toggleable__label-arrow\">LogTransformer</label><div class=\"sk-toggleable__content\"><pre>LogTransformer(base=&#x27;10&#x27;, variables=[&#x27;GrLivArea&#x27;])</pre></div></div></div></div></div></div></div>"
      ],
      "text/plain": [
       "Pipeline(steps=[('DropUnwantedFeatures',\n",
       "                 FunctionTransformer(func=<function drop_unwanted_columns at 0x7c243550b2e0>)),\n",
       "                ('ImputeMasVnrArea',\n",
       "                 MeanMedianImputer(imputation_method='mean',\n",
       "                                   variables=['MasVnrArea'])),\n",
       "                ('ImputeGarageFinish',\n",
       "                 CategoricalImputer(variables=['GarageFinish'])),\n",
       "                ('OrdinalCategoricalEncoder',\n",
       "                 OrdinalEncoder(encoding_method='arbitrary',\n",
       "                                var...arageFinish'])),\n",
       "                ('SmartCorrelatedSelection',\n",
       "                 SmartCorrelatedSelection(method='spearman',\n",
       "                                          selection_method='variance',\n",
       "                                          threshold=0.6,\n",
       "                                          variables=['GarageFinish',\n",
       "                                                     'TotalBsmtSF',\n",
       "                                                     'MasVnrArea',\n",
       "                                                     'OpenPorchSF', '1stFlrSF',\n",
       "                                                     'KitchenQual',\n",
       "                                                     'YearRemodAdd',\n",
       "                                                     'YearBuilt',\n",
       "                                                     'GarageArea'])),\n",
       "                ('LogTransformation',\n",
       "                 LogTransformer(base='10', variables=['GrLivArea']))],\n",
       "         verbose=True)"
      ]
     },
     "execution_count": 8,
     "metadata": {},
     "output_type": "execute_result"
    }
   ],
   "source": [
    "from sklearn.pipeline import Pipeline\n",
    "\n",
    "# preprocessing\n",
    "from sklearn.pipeline import Pipeline\n",
    "from sklearn.preprocessing import FunctionTransformer\n",
    "\n",
    "# Feature Engineering\n",
    "from feature_engine.selection import SmartCorrelatedSelection # Import SmartCorrelationSelection\n",
    "from feature_engine.encoding import OrdinalEncoder # Import OrdinalEncoder\n",
    "from feature_engine.transformation import LogTransformer  # Import LogTransformer\n",
    "from feature_engine.imputation import MeanMedianImputer, CategoricalImputer # For Imputation\n",
    "from src.preprocessing import drop_unwanted_columns\n",
    "import joblib # to import preprocessing.py\n",
    "\n",
    "\n",
    "def PipelineDataCleaningAndFeatureEngineering():\n",
    "    pipeline_base = Pipeline([\n",
    "        # Drop unwanted columns\n",
    "        (\"DropUnwantedFeatures\", FunctionTransformer(drop_unwanted_columns, validate=False)),\n",
    "\n",
    "        # Impute MasVnrArea using mean\n",
    "        (\"ImputeMasVnrArea\", MeanMedianImputer(imputation_method='mean', variables=['MasVnrArea'])),\n",
    "\n",
    "        # Impute missing values in GarageFinish\n",
    "        (\"ImputeGarageFinish\", CategoricalImputer(imputation_method='missing', variables=['GarageFinish'])),\n",
    "\n",
    "        # Encoding categorical variables using OrdinalEncoder, add GarageFinish\n",
    "        (\"OrdinalCategoricalEncoder\", OrdinalEncoder(encoding_method='arbitrary',\n",
    "                                                     variables=['KitchenQual', 'GarageFinish'])),\n",
    "\n",
    "         # Feature selection based on correlation using SmartCorrelatedSelection\n",
    "        (\"SmartCorrelatedSelection\", SmartCorrelatedSelection(variables=['GarageFinish', 'TotalBsmtSF', 'MasVnrArea', 'OpenPorchSF', '1stFlrSF', 'KitchenQual', 'YearRemodAdd', 'YearBuilt', 'GarageArea'],\n",
    "         method=\"spearman\", threshold=0.6, selection_method=\"variance\")),\n",
    "\n",
    "        # Apply log10 transformation to selected numeric features\n",
    "        # SalePrice is removed due to X_train data\n",
    "        (\"LogTransformation\", LogTransformer(variables=['GrLivArea'], base='10'))\n",
    "\n",
    "    ], verbose=True)\n",
    "\n",
    "    return pipeline_base\n",
    "\n",
    "\n",
    "# Run the pipeline\n",
    "PipelineDataCleaningAndFeatureEngineering()"
   ]
  },
  {
   "cell_type": "code",
   "execution_count": 9,
   "id": "b4c11856",
   "metadata": {},
   "outputs": [
    {
     "name": "stdout",
     "output_type": "stream",
     "text": [
      "[Pipeline]  (step 1 of 6) Processing DropUnwantedFeatures, total=   0.0s\n",
      "[Pipeline] .. (step 2 of 6) Processing ImputeMasVnrArea, total=   0.0s\n",
      "[Pipeline]  (step 3 of 6) Processing ImputeGarageFinish, total=   0.0s\n",
      "[Pipeline]  (step 4 of 6) Processing OrdinalCategoricalEncoder, total=   0.0s\n",
      "[Pipeline]  (step 5 of 6) Processing SmartCorrelatedSelection, total=   0.0s\n",
      "[Pipeline] . (step 6 of 6) Processing LogTransformation, total=   0.0s\n",
      "   BsmtFinSF1  GarageArea  GarageFinish  GrLivArea  KitchenQual  MasVnrArea  \\\n",
      "0         706         548             0   3.232996            0       196.0   \n",
      "1         978         460             0   3.101059            1         0.0   \n",
      "2         486         608             0   3.251881            0       162.0   \n",
      "3         216         642             1   3.234770            0         0.0   \n",
      "4         655         836             0   3.342028            0       350.0   \n",
      "\n",
      "   OpenPorchSF  OverallQual  TotalBsmtSF  YearBuilt  SalePrice  \n",
      "0           61            7          856       2003     208500  \n",
      "1            0            6         1262       1976     181500  \n",
      "2           42            7          920       2001     223500  \n",
      "3           35            7          756       1915     140000  \n",
      "4           84            8         1145       2000     250000  \n"
     ]
    },
    {
     "name": "stderr",
     "output_type": "stream",
     "text": [
      "/home/cistudent/.local/lib/python3.12/site-packages/feature_engine/imputation/categorical.py:232: FutureWarning: is_categorical_dtype is deprecated and will be removed in a future version. Use isinstance(dtype, CategoricalDtype) instead\n",
      "  if pd.api.types.is_categorical_dtype(X[variable]):\n",
      "/home/cistudent/.local/lib/python3.12/site-packages/feature_engine/encoding/base_encoder.py:223: FutureWarning: is_categorical_dtype is deprecated and will be removed in a future version. Use isinstance(dtype, CategoricalDtype) instead\n",
      "  if pd.api.types.is_categorical_dtype(X[feature]):\n",
      "/home/cistudent/.local/lib/python3.12/site-packages/feature_engine/encoding/base_encoder.py:223: FutureWarning: is_categorical_dtype is deprecated and will be removed in a future version. Use isinstance(dtype, CategoricalDtype) instead\n",
      "  if pd.api.types.is_categorical_dtype(X[feature]):\n"
     ]
    }
   ],
   "source": [
    "# 1. Get the pipeline\n",
    "pipeline = PipelineDataCleaningAndFeatureEngineering()\n",
    "\n",
    "# 2. Fit and transform  DataFrame\n",
    "df_transformed = pipeline.fit_transform(df)\n",
    "\n",
    "# 3. View the result\n",
    "print(df_transformed.head())"
   ]
  },
  {
   "cell_type": "markdown",
   "id": "20f588a0",
   "metadata": {},
   "source": [
    "ML Pipeline for Modelling, import libaries (in progress)"
   ]
  },
  {
   "cell_type": "code",
   "execution_count": 10,
   "id": "baf8d847",
   "metadata": {},
   "outputs": [],
   "source": [
    "# Import necessary libraries\n",
    "import pandas as pd\n",
    "from sklearn.model_selection import train_test_split\n",
    "from sklearn.ensemble import RandomForestRegressor\n",
    "from sklearn.metrics import mean_absolute_error, mean_squared_error\n",
    "from sklearn.preprocessing import StandardScaler\n",
    "\n",
    "\n",
    "# Feat Scaling\n",
    "from sklearn.preprocessing import StandardScaler\n",
    "\n",
    "# Feat Selection\n",
    "from sklearn.feature_selection import SelectFromModel\n",
    "\n",
    "# ML algorithms\n",
    "from sklearn.linear_model import LogisticRegression\n",
    "from sklearn.tree import DecisionTreeRegressor\n",
    "from sklearn.ensemble import RandomForestRegressor\n",
    "from sklearn.ensemble import GradientBoostingRegressor\n",
    "from sklearn.ensemble import ExtraTreesRegressor\n",
    "from sklearn.ensemble import AdaBoostRegressor\n",
    "from xgboost import XGBRegressor\n",
    "\n",
    "\n",
    "def PipelineRegressor(model):\n",
    "    pipeline_base = Pipeline([\n",
    "        (\"scaler\", StandardScaler()),\n",
    "        (\"feat_selection\", SelectFromModel(model)),\n",
    "        (\"model\", model),\n",
    "    ])\n",
    "\n",
    "    return pipeline_base"
   ]
  },
  {
   "cell_type": "markdown",
   "id": "3350e3c5",
   "metadata": {},
   "source": [
    "### Hyperparameter Optimisation"
   ]
  },
  {
   "cell_type": "markdown",
   "id": "65244fb5",
   "metadata": {},
   "source": [
    "Use GridSearch algorithm to find the best combination of hyperparameters for the model."
   ]
  },
  {
   "cell_type": "code",
   "execution_count": 11,
   "id": "b50d89bb",
   "metadata": {},
   "outputs": [],
   "source": [
    "from sklearn.model_selection import GridSearchCV\n",
    "\n",
    "\n",
    "class HyperparameterOptimizationSearch:\n",
    "\n",
    "    def __init__(self, models, params):\n",
    "        self.models = models\n",
    "        self.params = params\n",
    "        self.keys = models.keys()\n",
    "        self.grid_searches = {}\n",
    "\n",
    "    def fit(self, X, y, cv, n_jobs, verbose=1, scoring=None, refit=False):\n",
    "        for key in self.keys:\n",
    "            print(f\"\\nRunning GridSearchCV for {key} \\n\")\n",
    "\n",
    "            model = PipelineRegressor(self.models[key])\n",
    "            params = self.params[key]\n",
    "            gs = GridSearchCV(model, params, cv=cv, n_jobs=n_jobs,\n",
    "                              verbose=verbose, scoring=scoring, )\n",
    "            gs.fit(X, y)\n",
    "            self.grid_searches[key] = gs\n",
    "\n",
    "    def score_summary(self, sort_by='mean_score'):\n",
    "        def row(key, scores, params):\n",
    "            d = {\n",
    "                'estimator': key,\n",
    "                'min_score': min(scores),\n",
    "                'max_score': max(scores),\n",
    "                'mean_score': np.mean(scores),\n",
    "                'std_score': np.std(scores),\n",
    "            }\n",
    "            return pd.Series({**params, **d})\n",
    "\n",
    "        rows = []\n",
    "        for k in self.grid_searches:\n",
    "            params = self.grid_searches[k].cv_results_['params']\n",
    "            scores = []\n",
    "            for i in range(self.grid_searches[k].cv):\n",
    "                key = \"split{}_test_score\".format(i)\n",
    "                r = self.grid_searches[k].cv_results_[key]\n",
    "                scores.append(r.reshape(len(params), 1))\n",
    "\n",
    "            all_scores = np.hstack(scores)\n",
    "            for p, s in zip(params, all_scores):\n",
    "                rows.append((row(k, s, p)))\n",
    "\n",
    "        df = pd.concat(rows, axis=1).T.sort_values([sort_by], ascending=False)\n",
    "        columns = ['estimator', 'min_score',\n",
    "                   'mean_score', 'max_score', 'std_score']\n",
    "        columns = columns + [c for c in df.columns if c not in columns]\n",
    "        return df[columns]"
   ]
  },
  {
   "cell_type": "markdown",
   "id": "97f470d1",
   "metadata": {},
   "source": [
    "### Train-test split after transforming the target"
   ]
  },
  {
   "cell_type": "markdown",
   "id": "9df99d92",
   "metadata": {},
   "source": [
    "X_train and y_train will be used to train the model.\n",
    "X_test and y_test will be used to evaluate the model.\n",
    "\n",
    "X set is dropping 'SalePrice' since it is the target variable.\n",
    "Y contains only the target variable."
   ]
  },
  {
   "cell_type": "code",
   "execution_count": 12,
   "id": "a2b6a502",
   "metadata": {},
   "outputs": [],
   "source": [
    "from sklearn.model_selection import train_test_split\n",
    "\n",
    "# Transform target variable\n",
    "# df['SalePrice'] = np.log10(df['SalePrice'])\n",
    "\n",
    "# Split into features and target\n",
    "X = df.drop('SalePrice', axis=1) # All columns except 'SalePrice' are features\n",
    "y = df['SalePrice'] # 'SalePrice' is the target variable\n",
    "\n",
    "# Split into train and test sets (80% train, 20% test is common)\n",
    "X_train, X_test, y_train, y_test = train_test_split(X, y, test_size=0.2, random_state=0)"
   ]
  },
  {
   "cell_type": "markdown",
   "id": "a21767eb",
   "metadata": {},
   "source": [
    "### Apply the pipeline to training and testing features"
   ]
  },
  {
   "cell_type": "code",
   "execution_count": 13,
   "id": "aff33f75",
   "metadata": {},
   "outputs": [
    {
     "name": "stdout",
     "output_type": "stream",
     "text": [
      "[Pipeline]  (step 1 of 6) Processing DropUnwantedFeatures, total=   0.0s\n",
      "[Pipeline] .. (step 2 of 6) Processing ImputeMasVnrArea, total=   0.0s\n",
      "[Pipeline]  (step 3 of 6) Processing ImputeGarageFinish, total=   0.0s\n",
      "[Pipeline]  (step 4 of 6) Processing OrdinalCategoricalEncoder, total=   0.0s\n",
      "[Pipeline]  (step 5 of 6) Processing SmartCorrelatedSelection, total=   0.0s\n",
      "[Pipeline] . (step 6 of 6) Processing LogTransformation, total=   0.0s\n",
      "(1168, 10) (1168,) (292, 10) (292,)\n"
     ]
    },
    {
     "name": "stderr",
     "output_type": "stream",
     "text": [
      "/home/cistudent/.local/lib/python3.12/site-packages/feature_engine/imputation/categorical.py:232: FutureWarning: is_categorical_dtype is deprecated and will be removed in a future version. Use isinstance(dtype, CategoricalDtype) instead\n",
      "  if pd.api.types.is_categorical_dtype(X[variable]):\n",
      "/home/cistudent/.local/lib/python3.12/site-packages/feature_engine/encoding/base_encoder.py:223: FutureWarning: is_categorical_dtype is deprecated and will be removed in a future version. Use isinstance(dtype, CategoricalDtype) instead\n",
      "  if pd.api.types.is_categorical_dtype(X[feature]):\n",
      "/home/cistudent/.local/lib/python3.12/site-packages/feature_engine/encoding/base_encoder.py:223: FutureWarning: is_categorical_dtype is deprecated and will be removed in a future version. Use isinstance(dtype, CategoricalDtype) instead\n",
      "  if pd.api.types.is_categorical_dtype(X[feature]):\n",
      "/home/cistudent/.local/lib/python3.12/site-packages/feature_engine/imputation/categorical.py:232: FutureWarning: is_categorical_dtype is deprecated and will be removed in a future version. Use isinstance(dtype, CategoricalDtype) instead\n",
      "  if pd.api.types.is_categorical_dtype(X[variable]):\n",
      "/home/cistudent/.local/lib/python3.12/site-packages/feature_engine/encoding/base_encoder.py:223: FutureWarning: is_categorical_dtype is deprecated and will be removed in a future version. Use isinstance(dtype, CategoricalDtype) instead\n",
      "  if pd.api.types.is_categorical_dtype(X[feature]):\n",
      "/home/cistudent/.local/lib/python3.12/site-packages/feature_engine/encoding/base_encoder.py:223: FutureWarning: is_categorical_dtype is deprecated and will be removed in a future version. Use isinstance(dtype, CategoricalDtype) instead\n",
      "  if pd.api.types.is_categorical_dtype(X[feature]):\n"
     ]
    }
   ],
   "source": [
    "pipeline = PipelineDataCleaningAndFeatureEngineering()\n",
    "\n",
    "X_train = pipeline.fit_transform(X_train)\n",
    "X_test = pipeline.transform(X_test)\n",
    "\n",
    "print(X_train.shape, y_train.shape, X_test.shape, y_test.shape)"
   ]
  },
  {
   "cell_type": "markdown",
   "id": "f72e85dd",
   "metadata": {},
   "source": [
    "* 1168 training samples  and 292 test samples are created"
   ]
  },
  {
   "cell_type": "markdown",
   "id": "a94cbcdc",
   "metadata": {},
   "source": [
    "### Check Target Imbalance"
   ]
  },
  {
   "cell_type": "markdown",
   "id": "c4f79815",
   "metadata": {},
   "source": [
    "Check Target distribution of Train Set --> target shouldn't be imbalance because of the numeric tranformation of sales price (log10)"
   ]
  },
  {
   "cell_type": "code",
   "execution_count": 14,
   "id": "b57acaae",
   "metadata": {},
   "outputs": [
    {
     "data": {
      "image/png": "[encoded data removed]",
      "text/plain": [
       "<Figure size 1000x600 with 1 Axes>"
      ]
     },
     "metadata": {},
     "output_type": "display_data"
    }
   ],
   "source": [
    "import matplotlib.pyplot as plt\n",
    "import seaborn as sns\n",
    "\n",
    "# Plot target distribution\n",
    "plt.figure(figsize=(10, 6))\n",
    "sns.histplot(y_train, bins=40, kde=True, color='skyblue')\n",
    "plt.axvline(y_train.mean(), color='red', linestyle='--', label=f'Mean: ${y_train.mean():,.0f}')\n",
    "plt.axvline(y_train.median(), color='green', linestyle='--', label=f'Median: ${y_train.median():,.0f}')\n",
    "plt.title(\"Distribution of Sale Prices in Training Set\")\n",
    "plt.xlabel(\"SalePrice\")\n",
    "plt.ylabel(\"Frequency\")\n",
    "plt.legend()\n",
    "plt.show()"
   ]
  },
  {
   "cell_type": "markdown",
   "id": "56f8aa4e",
   "metadata": {},
   "source": [
    "---"
   ]
  },
  {
   "cell_type": "markdown",
   "id": "85f084d3",
   "metadata": {},
   "source": [
    "### Hyperparameter Optimization Search (Grid Search)"
   ]
  },
  {
   "cell_type": "markdown",
   "id": "399f99ca",
   "metadata": {},
   "source": [
    "1. Test multiple algorithms and choose the best one\n",
    "2. Run multiple hyperparameter on the selected algorithm to identify the best hyperparameter."
   ]
  },
  {
   "cell_type": "markdown",
   "id": "8a37f65a",
   "metadata": {},
   "source": [
    "#### Test multiple algorithms with Grid Search CV"
   ]
  },
  {
   "cell_type": "code",
   "execution_count": 15,
   "id": "d910b237",
   "metadata": {},
   "outputs": [],
   "source": [
    "# Algorithms that will be used/ tested\n",
    "models_quick_search = {\n",
    "    \"XGBRegressor\": XGBRegressor(random_state=0),\n",
    "    \"DecisionTreeRegressor\": DecisionTreeRegressor(random_state=0),\n",
    "    \"RandomForestRegressor\": RandomForestRegressor(random_state=0),\n",
    "    \"GradientBoostingRegressor\": GradientBoostingRegressor(random_state=0),\n",
    "    \"ExtraTreesRegressor\": ExtraTreesRegressor(random_state=0),\n",
    "    \"AdaBoostRegressor\": AdaBoostRegressor(random_state=0),\n",
    "}\n",
    "\n",
    "# Define hyperparameter for each algorithm\n",
    "# empty {} means default hyperparameter will be used\n",
    "params_quick_search = {\n",
    "    \"XGBRegressor\": {},\n",
    "    \"DecisionTreeRegressor\": {},\n",
    "    \"RandomForestRegressor\": {},\n",
    "    \"GradientBoostingRegressor\": {},\n",
    "    \"ExtraTreesRegressor\": {},\n",
    "    \"AdaBoostRegressor\": {},\n",
    "}"
   ]
  },
  {
   "cell_type": "markdown",
   "id": "4ad4a22b",
   "metadata": {},
   "source": [
    "Apply algorithms to Train data"
   ]
  },
  {
   "cell_type": "code",
   "execution_count": 16,
   "id": "8bec5054",
   "metadata": {},
   "outputs": [
    {
     "name": "stdout",
     "output_type": "stream",
     "text": [
      "\n",
      "Running GridSearchCV for XGBRegressor \n",
      "\n",
      "Fitting 5 folds for each of 1 candidates, totalling 5 fits\n"
     ]
    },
    {
     "name": "stderr",
     "output_type": "stream",
     "text": [
      "/home/cistudent/.local/lib/python3.12/site-packages/xgboost/data.py:440: FutureWarning: is_sparse is deprecated and will be removed in a future version. Check `isinstance(dtype, pd.SparseDtype)` instead.\n",
      "  if is_sparse(data):\n",
      "/home/cistudent/.local/lib/python3.12/site-packages/xgboost/data.py:440: FutureWarning: is_sparse is deprecated and will be removed in a future version. Check `isinstance(dtype, pd.SparseDtype)` instead.\n",
      "  if is_sparse(data):\n",
      "/home/cistudent/.local/lib/python3.12/site-packages/xgboost/data.py:440: FutureWarning: is_sparse is deprecated and will be removed in a future version. Check `isinstance(dtype, pd.SparseDtype)` instead.\n",
      "  if is_sparse(data):\n",
      "/home/cistudent/.local/lib/python3.12/site-packages/xgboost/data.py:440: FutureWarning: is_sparse is deprecated and will be removed in a future version. Check `isinstance(dtype, pd.SparseDtype)` instead.\n",
      "  if is_sparse(data):\n",
      "/home/cistudent/.local/lib/python3.12/site-packages/xgboost/data.py:440: FutureWarning: is_sparse is deprecated and will be removed in a future version. Check `isinstance(dtype, pd.SparseDtype)` instead.\n",
      "  if is_sparse(data):\n",
      "/home/cistudent/.local/lib/python3.12/site-packages/xgboost/data.py:440: FutureWarning: is_sparse is deprecated and will be removed in a future version. Check `isinstance(dtype, pd.SparseDtype)` instead.\n",
      "  if is_sparse(data):\n",
      "/home/cistudent/.local/lib/python3.12/site-packages/xgboost/data.py:440: FutureWarning: is_sparse is deprecated and will be removed in a future version. Check `isinstance(dtype, pd.SparseDtype)` instead.\n",
      "  if is_sparse(data):\n",
      "/home/cistudent/.local/lib/python3.12/site-packages/xgboost/data.py:440: FutureWarning: is_sparse is deprecated and will be removed in a future version. Check `isinstance(dtype, pd.SparseDtype)` instead.\n",
      "  if is_sparse(data):\n",
      "/home/cistudent/.local/lib/python3.12/site-packages/xgboost/data.py:440: FutureWarning: is_sparse is deprecated and will be removed in a future version. Check `isinstance(dtype, pd.SparseDtype)` instead.\n",
      "  if is_sparse(data):\n",
      "/home/cistudent/.local/lib/python3.12/site-packages/xgboost/data.py:440: FutureWarning: is_sparse is deprecated and will be removed in a future version. Check `isinstance(dtype, pd.SparseDtype)` instead.\n",
      "  if is_sparse(data):\n",
      "/home/cistudent/.local/lib/python3.12/site-packages/xgboost/data.py:440: FutureWarning: is_sparse is deprecated and will be removed in a future version. Check `isinstance(dtype, pd.SparseDtype)` instead.\n",
      "  if is_sparse(data):\n",
      "/home/cistudent/.local/lib/python3.12/site-packages/xgboost/data.py:440: FutureWarning: is_sparse is deprecated and will be removed in a future version. Check `isinstance(dtype, pd.SparseDtype)` instead.\n",
      "  if is_sparse(data):\n"
     ]
    },
    {
     "name": "stdout",
     "output_type": "stream",
     "text": [
      "\n",
      "Running GridSearchCV for DecisionTreeRegressor \n",
      "\n",
      "Fitting 5 folds for each of 1 candidates, totalling 5 fits\n",
      "\n",
      "Running GridSearchCV for RandomForestRegressor \n",
      "\n",
      "Fitting 5 folds for each of 1 candidates, totalling 5 fits\n",
      "\n",
      "Running GridSearchCV for GradientBoostingRegressor \n",
      "\n",
      "Fitting 5 folds for each of 1 candidates, totalling 5 fits\n",
      "\n",
      "Running GridSearchCV for ExtraTreesRegressor \n",
      "\n",
      "Fitting 5 folds for each of 1 candidates, totalling 5 fits\n",
      "\n",
      "Running GridSearchCV for AdaBoostRegressor \n",
      "\n",
      "Fitting 5 folds for each of 1 candidates, totalling 5 fits\n"
     ]
    },
    {
     "data": {
      "text/html": [
       "<div>\n",
       "<style scoped>\n",
       "    .dataframe tbody tr th:only-of-type {\n",
       "        vertical-align: middle;\n",
       "    }\n",
       "\n",
       "    .dataframe tbody tr th {\n",
       "        vertical-align: top;\n",
       "    }\n",
       "\n",
       "    .dataframe thead th {\n",
       "        text-align: right;\n",
       "    }\n",
       "</style>\n",
       "<table border=\"1\" class=\"dataframe\">\n",
       "  <thead>\n",
       "    <tr style=\"text-align: right;\">\n",
       "      <th></th>\n",
       "      <th>estimator</th>\n",
       "      <th>min_score</th>\n",
       "      <th>mean_score</th>\n",
       "      <th>max_score</th>\n",
       "      <th>std_score</th>\n",
       "    </tr>\n",
       "  </thead>\n",
       "  <tbody>\n",
       "    <tr>\n",
       "      <th>4</th>\n",
       "      <td>ExtraTreesRegressor</td>\n",
       "      <td>-28504.533875</td>\n",
       "      <td>-25253.152763</td>\n",
       "      <td>-22270.965436</td>\n",
       "      <td>2175.690113</td>\n",
       "    </tr>\n",
       "    <tr>\n",
       "      <th>3</th>\n",
       "      <td>GradientBoostingRegressor</td>\n",
       "      <td>-29485.672118</td>\n",
       "      <td>-27020.45468</td>\n",
       "      <td>-23856.184008</td>\n",
       "      <td>2071.806464</td>\n",
       "    </tr>\n",
       "    <tr>\n",
       "      <th>5</th>\n",
       "      <td>AdaBoostRegressor</td>\n",
       "      <td>-32189.337364</td>\n",
       "      <td>-28960.643488</td>\n",
       "      <td>-24050.631382</td>\n",
       "      <td>2853.16371</td>\n",
       "    </tr>\n",
       "    <tr>\n",
       "      <th>2</th>\n",
       "      <td>RandomForestRegressor</td>\n",
       "      <td>-30880.851949</td>\n",
       "      <td>-29051.188548</td>\n",
       "      <td>-27441.342784</td>\n",
       "      <td>1349.13978</td>\n",
       "    </tr>\n",
       "    <tr>\n",
       "      <th>0</th>\n",
       "      <td>XGBRegressor</td>\n",
       "      <td>-33345.455429</td>\n",
       "      <td>-31342.340933</td>\n",
       "      <td>-28968.361353</td>\n",
       "      <td>1794.742211</td>\n",
       "    </tr>\n",
       "    <tr>\n",
       "      <th>1</th>\n",
       "      <td>DecisionTreeRegressor</td>\n",
       "      <td>-34783.516382</td>\n",
       "      <td>-32855.129023</td>\n",
       "      <td>-30823.081545</td>\n",
       "      <td>1717.711271</td>\n",
       "    </tr>\n",
       "  </tbody>\n",
       "</table>\n",
       "</div>"
      ],
      "text/plain": [
       "                   estimator     min_score    mean_score     max_score  \\\n",
       "4        ExtraTreesRegressor -28504.533875 -25253.152763 -22270.965436   \n",
       "3  GradientBoostingRegressor -29485.672118  -27020.45468 -23856.184008   \n",
       "5          AdaBoostRegressor -32189.337364 -28960.643488 -24050.631382   \n",
       "2      RandomForestRegressor -30880.851949 -29051.188548 -27441.342784   \n",
       "0               XGBRegressor -33345.455429 -31342.340933 -28968.361353   \n",
       "1      DecisionTreeRegressor -34783.516382 -32855.129023 -30823.081545   \n",
       "\n",
       "     std_score  \n",
       "4  2175.690113  \n",
       "3  2071.806464  \n",
       "5   2853.16371  \n",
       "2   1349.13978  \n",
       "0  1794.742211  \n",
       "1  1717.711271  "
      ]
     },
     "execution_count": 16,
     "metadata": {},
     "output_type": "execute_result"
    }
   ],
   "source": [
    "from sklearn.metrics import make_scorer, recall_score\n",
    "\n",
    "# Start HyperparameterOptimizationSeach\n",
    "search = HyperparameterOptimizationSearch(models=models_quick_search, params=params_quick_search)\n",
    "\n",
    "# Fir model with training data\n",
    "search.fit(X_train, y_train,\n",
    "           scoring = 'neg_mean_absolute_error',\n",
    "           n_jobs=-1, cv=5)\n",
    "\n",
    "# To check the results:\n",
    "search.score_summary(sort_by='mean_score')"
   ]
  },
  {
   "cell_type": "markdown",
   "id": "8e01ba05",
   "metadata": {},
   "source": [
    "A negative mean absolute error (neg_mean_absolute_error) is used as the evaluation metric.\n",
    "\n",
    "* Lower (negative) MAE values indicate better performance.\n",
    "* Since the metric is negative, values closer to zero are better.\n",
    "\n",
    "First results:\n",
    "* ExtraTreesRegressor: Mean score around -0.0052 (best performance).\n",
    "* GradientBoostingRegressor: Mean score around -0.0056.\n",
    "* XGBRegressor: Mean score around -0.0058.\n",
    "* RandomForestRegressor: Mean score around -0.0060.\n",
    "* AdaBoostRegressor: Mean score around -0.0065.\n",
    "* DecisionTreeRegressor: Mean score around -0.0070 (lowest performance)."
   ]
  },
  {
   "cell_type": "markdown",
   "id": "231625f2",
   "metadata": {},
   "source": [
    "---"
   ]
  },
  {
   "cell_type": "markdown",
   "id": "c22f1157",
   "metadata": {},
   "source": [
    "### Define model and parameters, for Extensive Search"
   ]
  },
  {
   "cell_type": "markdown",
   "id": "881d5f7d",
   "metadata": {},
   "source": [
    "Based on the results ExtraTreesRegressor model is the best working on. This one is selected. In the next steps the best hyperparameter set up is defined. "
   ]
  },
  {
   "cell_type": "code",
   "execution_count": 17,
   "id": "66ee3f93",
   "metadata": {},
   "outputs": [
    {
     "data": {
      "text/html": [
       "<style>#sk-container-id-2 {color: black;}#sk-container-id-2 pre{padding: 0;}#sk-container-id-2 div.sk-toggleable {background-color: white;}#sk-container-id-2 label.sk-toggleable__label {cursor: pointer;display: block;width: 100%;margin-bottom: 0;padding: 0.3em;box-sizing: border-box;text-align: center;}#sk-container-id-2 label.sk-toggleable__label-arrow:before {content: \"▸\";float: left;margin-right: 0.25em;color: #696969;}#sk-container-id-2 label.sk-toggleable__label-arrow:hover:before {color: black;}#sk-container-id-2 div.sk-estimator:hover label.sk-toggleable__label-arrow:before {color: black;}#sk-container-id-2 div.sk-toggleable__content {max-height: 0;max-width: 0;overflow: hidden;text-align: left;background-color: #f0f8ff;}#sk-container-id-2 div.sk-toggleable__content pre {margin: 0.2em;color: black;border-radius: 0.25em;background-color: #f0f8ff;}#sk-container-id-2 input.sk-toggleable__control:checked~div.sk-toggleable__content {max-height: 200px;max-width: 100%;overflow: auto;}#sk-container-id-2 input.sk-toggleable__control:checked~label.sk-toggleable__label-arrow:before {content: \"▾\";}#sk-container-id-2 div.sk-estimator input.sk-toggleable__control:checked~label.sk-toggleable__label {background-color: #d4ebff;}#sk-container-id-2 div.sk-label input.sk-toggleable__control:checked~label.sk-toggleable__label {background-color: #d4ebff;}#sk-container-id-2 input.sk-hidden--visually {border: 0;clip: rect(1px 1px 1px 1px);clip: rect(1px, 1px, 1px, 1px);height: 1px;margin: -1px;overflow: hidden;padding: 0;position: absolute;width: 1px;}#sk-container-id-2 div.sk-estimator {font-family: monospace;background-color: #f0f8ff;border: 1px dotted black;border-radius: 0.25em;box-sizing: border-box;margin-bottom: 0.5em;}#sk-container-id-2 div.sk-estimator:hover {background-color: #d4ebff;}#sk-container-id-2 div.sk-parallel-item::after {content: \"\";width: 100%;border-bottom: 1px solid gray;flex-grow: 1;}#sk-container-id-2 div.sk-label:hover label.sk-toggleable__label {background-color: #d4ebff;}#sk-container-id-2 div.sk-serial::before {content: \"\";position: absolute;border-left: 1px solid gray;box-sizing: border-box;top: 0;bottom: 0;left: 50%;z-index: 0;}#sk-container-id-2 div.sk-serial {display: flex;flex-direction: column;align-items: center;background-color: white;padding-right: 0.2em;padding-left: 0.2em;position: relative;}#sk-container-id-2 div.sk-item {position: relative;z-index: 1;}#sk-container-id-2 div.sk-parallel {display: flex;align-items: stretch;justify-content: center;background-color: white;position: relative;}#sk-container-id-2 div.sk-item::before, #sk-container-id-2 div.sk-parallel-item::before {content: \"\";position: absolute;border-left: 1px solid gray;box-sizing: border-box;top: 0;bottom: 0;left: 50%;z-index: -1;}#sk-container-id-2 div.sk-parallel-item {display: flex;flex-direction: column;z-index: 1;position: relative;background-color: white;}#sk-container-id-2 div.sk-parallel-item:first-child::after {align-self: flex-end;width: 50%;}#sk-container-id-2 div.sk-parallel-item:last-child::after {align-self: flex-start;width: 50%;}#sk-container-id-2 div.sk-parallel-item:only-child::after {width: 0;}#sk-container-id-2 div.sk-dashed-wrapped {border: 1px dashed gray;margin: 0 0.4em 0.5em 0.4em;box-sizing: border-box;padding-bottom: 0.4em;background-color: white;}#sk-container-id-2 div.sk-label label {font-family: monospace;font-weight: bold;display: inline-block;line-height: 1.2em;}#sk-container-id-2 div.sk-label-container {text-align: center;}#sk-container-id-2 div.sk-container {/* jupyter's `normalize.less` sets `[hidden] { display: none; }` but bootstrap.min.css set `[hidden] { display: none !important; }` so we also need the `!important` here to be able to override the default hidden behavior on the sphinx rendered scikit-learn.org. See: https://github.com/scikit-learn/scikit-learn/issues/21755 */display: inline-block !important;position: relative;}#sk-container-id-2 div.sk-text-repr-fallback {display: none;}</style><div id=\"sk-container-id-2\" class=\"sk-top-container\"><div class=\"sk-text-repr-fallback\"><pre>ExtraTreesRegressor(random_state=42)</pre><b>In a Jupyter environment, please rerun this cell to show the HTML representation or trust the notebook. <br />On GitHub, the HTML representation is unable to render, please try loading this page with nbviewer.org.</b></div><div class=\"sk-container\" hidden><div class=\"sk-item\"><div class=\"sk-estimator sk-toggleable\"><input class=\"sk-toggleable__control sk-hidden--visually\" id=\"sk-estimator-id-8\" type=\"checkbox\" checked><label for=\"sk-estimator-id-8\" class=\"sk-toggleable__label sk-toggleable__label-arrow\">ExtraTreesRegressor</label><div class=\"sk-toggleable__content\"><pre>ExtraTreesRegressor(random_state=42)</pre></div></div></div></div></div>"
      ],
      "text/plain": [
       "ExtraTreesRegressor(random_state=42)"
      ]
     },
     "execution_count": 17,
     "metadata": {},
     "output_type": "execute_result"
    }
   ],
   "source": [
    "# Initialize the ExtraTreesRegressor model\n",
    "model = ExtraTreesRegressor(n_estimators=100, random_state=42)\n",
    "\n",
    "# Fit the model on the training data\n",
    "model.fit(X_train, y_train)"
   ]
  },
  {
   "cell_type": "code",
   "execution_count": 18,
   "id": "cdbe9f6b",
   "metadata": {},
   "outputs": [],
   "source": [
    "# ExtraTreesRegressor\n",
    "models_quick_search = {\n",
    "    \"ExtraTreesRegressor\": ExtraTreesRegressor(random_state=0),\n",
    "}\n",
    "\n",
    "# Define hyperparameter for each algorithm\n",
    "params_quick_search = {\n",
    "    \"ExtraTreesRegressor\": {\n",
    "        \"model__n_estimators\": [100, 200],\n",
    "        \"model__max_depth\": [None, 20],\n",
    "        \"model__min_samples_split\": [2, 5],\n",
    "    }\n",
    "}"
   ]
  },
  {
   "cell_type": "markdown",
   "id": "4ec7562c",
   "metadata": {},
   "source": [
    "Apply algorithm and various hyperparameter to test data"
   ]
  },
  {
   "cell_type": "code",
   "execution_count": 19,
   "id": "1bcf7f8e",
   "metadata": {},
   "outputs": [
    {
     "name": "stdout",
     "output_type": "stream",
     "text": [
      "\n",
      "Running GridSearchCV for ExtraTreesRegressor \n",
      "\n",
      "Fitting 5 folds for each of 8 candidates, totalling 40 fits\n"
     ]
    },
    {
     "data": {
      "text/html": [
       "<div>\n",
       "<style scoped>\n",
       "    .dataframe tbody tr th:only-of-type {\n",
       "        vertical-align: middle;\n",
       "    }\n",
       "\n",
       "    .dataframe tbody tr th {\n",
       "        vertical-align: top;\n",
       "    }\n",
       "\n",
       "    .dataframe thead th {\n",
       "        text-align: right;\n",
       "    }\n",
       "</style>\n",
       "<table border=\"1\" class=\"dataframe\">\n",
       "  <thead>\n",
       "    <tr style=\"text-align: right;\">\n",
       "      <th></th>\n",
       "      <th>estimator</th>\n",
       "      <th>min_score</th>\n",
       "      <th>mean_score</th>\n",
       "      <th>max_score</th>\n",
       "      <th>std_score</th>\n",
       "      <th>model__max_depth</th>\n",
       "      <th>model__min_samples_split</th>\n",
       "      <th>model__n_estimators</th>\n",
       "    </tr>\n",
       "  </thead>\n",
       "  <tbody>\n",
       "    <tr>\n",
       "      <th>7</th>\n",
       "      <td>ExtraTreesRegressor</td>\n",
       "      <td>-27310.176884</td>\n",
       "      <td>-24353.977713</td>\n",
       "      <td>-21832.648307</td>\n",
       "      <td>1971.408531</td>\n",
       "      <td>20</td>\n",
       "      <td>5</td>\n",
       "      <td>200</td>\n",
       "    </tr>\n",
       "    <tr>\n",
       "      <th>6</th>\n",
       "      <td>ExtraTreesRegressor</td>\n",
       "      <td>-27266.121025</td>\n",
       "      <td>-24372.631828</td>\n",
       "      <td>-21928.562578</td>\n",
       "      <td>1919.673054</td>\n",
       "      <td>20</td>\n",
       "      <td>5</td>\n",
       "      <td>100</td>\n",
       "    </tr>\n",
       "    <tr>\n",
       "      <th>3</th>\n",
       "      <td>ExtraTreesRegressor</td>\n",
       "      <td>-27447.307788</td>\n",
       "      <td>-24452.260569</td>\n",
       "      <td>-21830.482763</td>\n",
       "      <td>1993.659703</td>\n",
       "      <td>None</td>\n",
       "      <td>5</td>\n",
       "      <td>200</td>\n",
       "    </tr>\n",
       "    <tr>\n",
       "      <th>2</th>\n",
       "      <td>ExtraTreesRegressor</td>\n",
       "      <td>-27413.920324</td>\n",
       "      <td>-24498.013875</td>\n",
       "      <td>-21916.516638</td>\n",
       "      <td>1920.577955</td>\n",
       "      <td>None</td>\n",
       "      <td>5</td>\n",
       "      <td>100</td>\n",
       "    </tr>\n",
       "    <tr>\n",
       "      <th>0</th>\n",
       "      <td>ExtraTreesRegressor</td>\n",
       "      <td>-28504.533875</td>\n",
       "      <td>-25253.152763</td>\n",
       "      <td>-22270.965436</td>\n",
       "      <td>2175.690113</td>\n",
       "      <td>None</td>\n",
       "      <td>2</td>\n",
       "      <td>100</td>\n",
       "    </tr>\n",
       "    <tr>\n",
       "      <th>5</th>\n",
       "      <td>ExtraTreesRegressor</td>\n",
       "      <td>-28537.649406</td>\n",
       "      <td>-25285.565996</td>\n",
       "      <td>-22465.53862</td>\n",
       "      <td>2117.716076</td>\n",
       "      <td>20</td>\n",
       "      <td>2</td>\n",
       "      <td>200</td>\n",
       "    </tr>\n",
       "    <tr>\n",
       "      <th>1</th>\n",
       "      <td>ExtraTreesRegressor</td>\n",
       "      <td>-28510.821457</td>\n",
       "      <td>-25289.228076</td>\n",
       "      <td>-22457.460579</td>\n",
       "      <td>2118.521998</td>\n",
       "      <td>None</td>\n",
       "      <td>2</td>\n",
       "      <td>200</td>\n",
       "    </tr>\n",
       "    <tr>\n",
       "      <th>4</th>\n",
       "      <td>ExtraTreesRegressor</td>\n",
       "      <td>-28788.32777</td>\n",
       "      <td>-25420.721547</td>\n",
       "      <td>-22570.156226</td>\n",
       "      <td>2162.903917</td>\n",
       "      <td>20</td>\n",
       "      <td>2</td>\n",
       "      <td>100</td>\n",
       "    </tr>\n",
       "  </tbody>\n",
       "</table>\n",
       "</div>"
      ],
      "text/plain": [
       "             estimator     min_score    mean_score     max_score    std_score  \\\n",
       "7  ExtraTreesRegressor -27310.176884 -24353.977713 -21832.648307  1971.408531   \n",
       "6  ExtraTreesRegressor -27266.121025 -24372.631828 -21928.562578  1919.673054   \n",
       "3  ExtraTreesRegressor -27447.307788 -24452.260569 -21830.482763  1993.659703   \n",
       "2  ExtraTreesRegressor -27413.920324 -24498.013875 -21916.516638  1920.577955   \n",
       "0  ExtraTreesRegressor -28504.533875 -25253.152763 -22270.965436  2175.690113   \n",
       "5  ExtraTreesRegressor -28537.649406 -25285.565996  -22465.53862  2117.716076   \n",
       "1  ExtraTreesRegressor -28510.821457 -25289.228076 -22457.460579  2118.521998   \n",
       "4  ExtraTreesRegressor  -28788.32777 -25420.721547 -22570.156226  2162.903917   \n",
       "\n",
       "  model__max_depth model__min_samples_split model__n_estimators  \n",
       "7               20                        5                 200  \n",
       "6               20                        5                 100  \n",
       "3             None                        5                 200  \n",
       "2             None                        5                 100  \n",
       "0             None                        2                 100  \n",
       "5               20                        2                 200  \n",
       "1             None                        2                 200  \n",
       "4               20                        2                 100  "
      ]
     },
     "execution_count": 19,
     "metadata": {},
     "output_type": "execute_result"
    }
   ],
   "source": [
    "from sklearn.metrics import make_scorer, recall_score\n",
    "\n",
    "# Start HyperparameterOptimizationSeach\n",
    "search = HyperparameterOptimizationSearch(models=models_quick_search, params=params_quick_search)\n",
    "\n",
    "# Fir model with training data\n",
    "search.fit(X_train, y_train,\n",
    "           scoring = 'neg_mean_absolute_error',\n",
    "           n_jobs=-1, cv=5)\n",
    "\n",
    "# To check the results:\n",
    "search.score_summary(sort_by='mean_score')"
   ]
  },
  {
   "cell_type": "markdown",
   "id": "f7510d54",
   "metadata": {},
   "source": [
    "Check results"
   ]
  },
  {
   "cell_type": "markdown",
   "id": "f4b1b4eb",
   "metadata": {},
   "source": [
    "Best score: **ExtraTreesRegressor7 (0.004982)**"
   ]
  },
  {
   "cell_type": "markdown",
   "id": "f2794842",
   "metadata": {},
   "source": [
    "---"
   ]
  },
  {
   "cell_type": "markdown",
   "id": "d3cbf22a",
   "metadata": {},
   "source": [
    "## Define pipeline with the best set up\n",
    "\n",
    "Model type: \n",
    "ExtraTreesRegressor\n",
    "\n",
    "Hyperparameter: \n",
    "* model_max_depth: 20\n",
    "* model_min_samples_split: 5\n",
    "* model_n_estimators: 200"
   ]
  },
  {
   "cell_type": "code",
   "execution_count": 20,
   "id": "10f4ff57",
   "metadata": {},
   "outputs": [
    {
     "data": {
      "text/html": [
       "<style>#sk-container-id-3 {color: black;}#sk-container-id-3 pre{padding: 0;}#sk-container-id-3 div.sk-toggleable {background-color: white;}#sk-container-id-3 label.sk-toggleable__label {cursor: pointer;display: block;width: 100%;margin-bottom: 0;padding: 0.3em;box-sizing: border-box;text-align: center;}#sk-container-id-3 label.sk-toggleable__label-arrow:before {content: \"▸\";float: left;margin-right: 0.25em;color: #696969;}#sk-container-id-3 label.sk-toggleable__label-arrow:hover:before {color: black;}#sk-container-id-3 div.sk-estimator:hover label.sk-toggleable__label-arrow:before {color: black;}#sk-container-id-3 div.sk-toggleable__content {max-height: 0;max-width: 0;overflow: hidden;text-align: left;background-color: #f0f8ff;}#sk-container-id-3 div.sk-toggleable__content pre {margin: 0.2em;color: black;border-radius: 0.25em;background-color: #f0f8ff;}#sk-container-id-3 input.sk-toggleable__control:checked~div.sk-toggleable__content {max-height: 200px;max-width: 100%;overflow: auto;}#sk-container-id-3 input.sk-toggleable__control:checked~label.sk-toggleable__label-arrow:before {content: \"▾\";}#sk-container-id-3 div.sk-estimator input.sk-toggleable__control:checked~label.sk-toggleable__label {background-color: #d4ebff;}#sk-container-id-3 div.sk-label input.sk-toggleable__control:checked~label.sk-toggleable__label {background-color: #d4ebff;}#sk-container-id-3 input.sk-hidden--visually {border: 0;clip: rect(1px 1px 1px 1px);clip: rect(1px, 1px, 1px, 1px);height: 1px;margin: -1px;overflow: hidden;padding: 0;position: absolute;width: 1px;}#sk-container-id-3 div.sk-estimator {font-family: monospace;background-color: #f0f8ff;border: 1px dotted black;border-radius: 0.25em;box-sizing: border-box;margin-bottom: 0.5em;}#sk-container-id-3 div.sk-estimator:hover {background-color: #d4ebff;}#sk-container-id-3 div.sk-parallel-item::after {content: \"\";width: 100%;border-bottom: 1px solid gray;flex-grow: 1;}#sk-container-id-3 div.sk-label:hover label.sk-toggleable__label {background-color: #d4ebff;}#sk-container-id-3 div.sk-serial::before {content: \"\";position: absolute;border-left: 1px solid gray;box-sizing: border-box;top: 0;bottom: 0;left: 50%;z-index: 0;}#sk-container-id-3 div.sk-serial {display: flex;flex-direction: column;align-items: center;background-color: white;padding-right: 0.2em;padding-left: 0.2em;position: relative;}#sk-container-id-3 div.sk-item {position: relative;z-index: 1;}#sk-container-id-3 div.sk-parallel {display: flex;align-items: stretch;justify-content: center;background-color: white;position: relative;}#sk-container-id-3 div.sk-item::before, #sk-container-id-3 div.sk-parallel-item::before {content: \"\";position: absolute;border-left: 1px solid gray;box-sizing: border-box;top: 0;bottom: 0;left: 50%;z-index: -1;}#sk-container-id-3 div.sk-parallel-item {display: flex;flex-direction: column;z-index: 1;position: relative;background-color: white;}#sk-container-id-3 div.sk-parallel-item:first-child::after {align-self: flex-end;width: 50%;}#sk-container-id-3 div.sk-parallel-item:last-child::after {align-self: flex-start;width: 50%;}#sk-container-id-3 div.sk-parallel-item:only-child::after {width: 0;}#sk-container-id-3 div.sk-dashed-wrapped {border: 1px dashed gray;margin: 0 0.4em 0.5em 0.4em;box-sizing: border-box;padding-bottom: 0.4em;background-color: white;}#sk-container-id-3 div.sk-label label {font-family: monospace;font-weight: bold;display: inline-block;line-height: 1.2em;}#sk-container-id-3 div.sk-label-container {text-align: center;}#sk-container-id-3 div.sk-container {/* jupyter's `normalize.less` sets `[hidden] { display: none; }` but bootstrap.min.css set `[hidden] { display: none !important; }` so we also need the `!important` here to be able to override the default hidden behavior on the sphinx rendered scikit-learn.org. See: https://github.com/scikit-learn/scikit-learn/issues/21755 */display: inline-block !important;position: relative;}#sk-container-id-3 div.sk-text-repr-fallback {display: none;}</style><div id=\"sk-container-id-3\" class=\"sk-top-container\"><div class=\"sk-text-repr-fallback\"><pre>ExtraTreesRegressor(max_depth=20, min_samples_split=5)</pre><b>In a Jupyter environment, please rerun this cell to show the HTML representation or trust the notebook. <br />On GitHub, the HTML representation is unable to render, please try loading this page with nbviewer.org.</b></div><div class=\"sk-container\" hidden><div class=\"sk-item\"><div class=\"sk-estimator sk-toggleable\"><input class=\"sk-toggleable__control sk-hidden--visually\" id=\"sk-estimator-id-9\" type=\"checkbox\" checked><label for=\"sk-estimator-id-9\" class=\"sk-toggleable__label sk-toggleable__label-arrow\">ExtraTreesRegressor</label><div class=\"sk-toggleable__content\"><pre>ExtraTreesRegressor(max_depth=20, min_samples_split=5)</pre></div></div></div></div></div>"
      ],
      "text/plain": [
       "ExtraTreesRegressor(max_depth=20, min_samples_split=5)"
      ]
     },
     "execution_count": 20,
     "metadata": {},
     "output_type": "execute_result"
    }
   ],
   "source": [
    "from sklearn.ensemble import ExtraTreesRegressor # already imported on top\n",
    "\n",
    "# Initialize the ExtraTreesRegressor model\n",
    "pipeline_regressor = ExtraTreesRegressor(\n",
    "    max_depth=20,\n",
    "    min_samples_split=5,\n",
    "    n_estimators=100\n",
    ")\n",
    "\n",
    "# Fit the model on the training data\n",
    "pipeline_regressor.fit(X_train, y_train) # X_test_scaled?"
   ]
  },
  {
   "cell_type": "markdown",
   "id": "ae610ddd",
   "metadata": {},
   "source": [
    "### Make Predictions and Evaluate the Model (in progress)"
   ]
  },
  {
   "cell_type": "code",
   "execution_count": 21,
   "id": "7ab112c3",
   "metadata": {},
   "outputs": [
    {
     "name": "stdout",
     "output_type": "stream",
     "text": [
      "Mean Absolute Error (MAE): 19707.661492650237\n",
      "Mean Squared Error (MSE): 1169299929.7153409\n",
      "Root Mean Squared Error (RMSE): 34195.02785077592\n",
      "R² Score: 0.8306797952735341\n"
     ]
    }
   ],
   "source": [
    "from sklearn.metrics import mean_absolute_error # already imported on top\n",
    "from sklearn.metrics import r2_score\n",
    "\n",
    "# Make predictions on the test set\n",
    "y_pred = pipeline_regressor.predict(X_test) # X_test_scaled?\n",
    "\n",
    "# Evaluate the model using different metrics\n",
    "mae = mean_absolute_error(y_test, y_pred)  # Mean Absolute Error\n",
    "mse = mean_squared_error(y_test, y_pred)    # Mean Squared Error\n",
    "rmse = mean_squared_error(y_test, y_pred, squared=False)  # Root Mean Squared Error\n",
    "r2 = r2_score(y_test, y_pred)\n",
    "\n",
    "print(f\"Mean Absolute Error (MAE): {mae}\")\n",
    "print(f\"Mean Squared Error (MSE): {mse}\")\n",
    "print(f\"Root Mean Squared Error (RMSE): {rmse}\")\n",
    "print(f\"R² Score: {r2}\")"
   ]
  },
  {
   "cell_type": "markdown",
   "id": "a70f9e7f",
   "metadata": {},
   "source": [
    "---"
   ]
  },
  {
   "cell_type": "markdown",
   "id": "c5b271be",
   "metadata": {},
   "source": [
    "## Step 3: Refine pipeline with best features"
   ]
  },
  {
   "cell_type": "markdown",
   "id": "7b0a5288",
   "metadata": {},
   "source": [
    "(The pipeline is already optimized and needs only 5 features:\n",
    "'GarageArea', 'GrLivArea','MasVnrArea', 'OverallQual', 'YearBuilt'\n",
    "\n",
    "irrelevant variables:\n",
    "BsmtFinSF1, GarageArea, KitchenQual, OverallQual, TotalBsmtSF, YearRemodAdd, SalePrice(for x_train and test data)"
   ]
  },
  {
   "cell_type": "markdown",
   "id": "14d6da66",
   "metadata": {},
   "source": [
    "Clean dataset"
   ]
  },
  {
   "cell_type": "code",
   "execution_count": 22,
   "id": "760f266d",
   "metadata": {},
   "outputs": [
    {
     "name": "stdout",
     "output_type": "stream",
     "text": [
      "(1460, 11)\n"
     ]
    },
    {
     "data": {
      "text/html": [
       "<div>\n",
       "<style scoped>\n",
       "    .dataframe tbody tr th:only-of-type {\n",
       "        vertical-align: middle;\n",
       "    }\n",
       "\n",
       "    .dataframe tbody tr th {\n",
       "        vertical-align: top;\n",
       "    }\n",
       "\n",
       "    .dataframe thead th {\n",
       "        text-align: right;\n",
       "    }\n",
       "</style>\n",
       "<table border=\"1\" class=\"dataframe\">\n",
       "  <thead>\n",
       "    <tr style=\"text-align: right;\">\n",
       "      <th></th>\n",
       "      <th>BsmtFinSF1</th>\n",
       "      <th>GarageArea</th>\n",
       "      <th>GarageFinish</th>\n",
       "      <th>GrLivArea</th>\n",
       "      <th>KitchenQual</th>\n",
       "      <th>MasVnrArea</th>\n",
       "      <th>OpenPorchSF</th>\n",
       "      <th>OverallQual</th>\n",
       "      <th>TotalBsmtSF</th>\n",
       "      <th>YearBuilt</th>\n",
       "      <th>SalePrice</th>\n",
       "    </tr>\n",
       "  </thead>\n",
       "  <tbody>\n",
       "    <tr>\n",
       "      <th>0</th>\n",
       "      <td>706</td>\n",
       "      <td>548</td>\n",
       "      <td>0</td>\n",
       "      <td>3.232996</td>\n",
       "      <td>0</td>\n",
       "      <td>196.0</td>\n",
       "      <td>61</td>\n",
       "      <td>7</td>\n",
       "      <td>856</td>\n",
       "      <td>2003</td>\n",
       "      <td>208500</td>\n",
       "    </tr>\n",
       "    <tr>\n",
       "      <th>1</th>\n",
       "      <td>978</td>\n",
       "      <td>460</td>\n",
       "      <td>0</td>\n",
       "      <td>3.101059</td>\n",
       "      <td>1</td>\n",
       "      <td>0.0</td>\n",
       "      <td>0</td>\n",
       "      <td>6</td>\n",
       "      <td>1262</td>\n",
       "      <td>1976</td>\n",
       "      <td>181500</td>\n",
       "    </tr>\n",
       "    <tr>\n",
       "      <th>2</th>\n",
       "      <td>486</td>\n",
       "      <td>608</td>\n",
       "      <td>0</td>\n",
       "      <td>3.251881</td>\n",
       "      <td>0</td>\n",
       "      <td>162.0</td>\n",
       "      <td>42</td>\n",
       "      <td>7</td>\n",
       "      <td>920</td>\n",
       "      <td>2001</td>\n",
       "      <td>223500</td>\n",
       "    </tr>\n",
       "  </tbody>\n",
       "</table>\n",
       "</div>"
      ],
      "text/plain": [
       "   BsmtFinSF1  GarageArea  GarageFinish  GrLivArea  KitchenQual  MasVnrArea  \\\n",
       "0         706         548             0   3.232996            0       196.0   \n",
       "1         978         460             0   3.101059            1         0.0   \n",
       "2         486         608             0   3.251881            0       162.0   \n",
       "\n",
       "   OpenPorchSF  OverallQual  TotalBsmtSF  YearBuilt  SalePrice  \n",
       "0           61            7          856       2003     208500  \n",
       "1            0            6         1262       1976     181500  \n",
       "2           42            7          920       2001     223500  "
      ]
     },
     "execution_count": 22,
     "metadata": {},
     "output_type": "execute_result"
    }
   ],
   "source": [
    "print(df_transformed.shape)\n",
    "df_transformed.head(3)"
   ]
  },
  {
   "cell_type": "markdown",
   "id": "e9953d91",
   "metadata": {},
   "source": [
    "Delete unwanted variables"
   ]
  },
  {
   "cell_type": "code",
   "execution_count": 23,
   "id": "518dba63",
   "metadata": {},
   "outputs": [
    {
     "name": "stdout",
     "output_type": "stream",
     "text": [
      "(1460, 24)\n"
     ]
    },
    {
     "data": {
      "text/html": [
       "<div>\n",
       "<style scoped>\n",
       "    .dataframe tbody tr th:only-of-type {\n",
       "        vertical-align: middle;\n",
       "    }\n",
       "\n",
       "    .dataframe tbody tr th {\n",
       "        vertical-align: top;\n",
       "    }\n",
       "\n",
       "    .dataframe thead th {\n",
       "        text-align: right;\n",
       "    }\n",
       "</style>\n",
       "<table border=\"1\" class=\"dataframe\">\n",
       "  <thead>\n",
       "    <tr style=\"text-align: right;\">\n",
       "      <th></th>\n",
       "      <th>GarageArea</th>\n",
       "      <th>GrLivArea</th>\n",
       "      <th>MasVnrArea</th>\n",
       "      <th>OverallQual</th>\n",
       "      <th>YearBuilt</th>\n",
       "      <th>SalePrice</th>\n",
       "    </tr>\n",
       "  </thead>\n",
       "  <tbody>\n",
       "    <tr>\n",
       "      <th>0</th>\n",
       "      <td>548</td>\n",
       "      <td>3.232996</td>\n",
       "      <td>196.0</td>\n",
       "      <td>7</td>\n",
       "      <td>2003</td>\n",
       "      <td>208500</td>\n",
       "    </tr>\n",
       "    <tr>\n",
       "      <th>1</th>\n",
       "      <td>460</td>\n",
       "      <td>3.101059</td>\n",
       "      <td>0.0</td>\n",
       "      <td>6</td>\n",
       "      <td>1976</td>\n",
       "      <td>181500</td>\n",
       "    </tr>\n",
       "    <tr>\n",
       "      <th>2</th>\n",
       "      <td>608</td>\n",
       "      <td>3.251881</td>\n",
       "      <td>162.0</td>\n",
       "      <td>7</td>\n",
       "      <td>2001</td>\n",
       "      <td>223500</td>\n",
       "    </tr>\n",
       "  </tbody>\n",
       "</table>\n",
       "</div>"
      ],
      "text/plain": [
       "   GarageArea  GrLivArea  MasVnrArea  OverallQual  YearBuilt  SalePrice\n",
       "0         548   3.232996       196.0            7       2003     208500\n",
       "1         460   3.101059         0.0            6       1976     181500\n",
       "2         608   3.251881       162.0            7       2001     223500"
      ]
     },
     "execution_count": 23,
     "metadata": {},
     "output_type": "execute_result"
    }
   ],
   "source": [
    "df_opt = df_transformed.drop(columns=['BsmtFinSF1', 'GarageFinish', 'KitchenQual', 'OpenPorchSF', 'TotalBsmtSF'])\n",
    "\n",
    "print(df.shape)\n",
    "df_opt.head(3)"
   ]
  },
  {
   "cell_type": "code",
   "execution_count": 24,
   "id": "35729957",
   "metadata": {},
   "outputs": [
    {
     "name": "stdout",
     "output_type": "stream",
     "text": [
      "<class 'pandas.core.frame.DataFrame'>\n",
      "RangeIndex: 1460 entries, 0 to 1459\n",
      "Data columns (total 6 columns):\n",
      " #   Column       Non-Null Count  Dtype  \n",
      "---  ------       --------------  -----  \n",
      " 0   GarageArea   1460 non-null   int64  \n",
      " 1   GrLivArea    1460 non-null   float64\n",
      " 2   MasVnrArea   1460 non-null   float64\n",
      " 3   OverallQual  1460 non-null   int64  \n",
      " 4   YearBuilt    1460 non-null   int64  \n",
      " 5   SalePrice    1460 non-null   int64  \n",
      "dtypes: float64(2), int64(4)\n",
      "memory usage: 68.6 KB\n"
     ]
    }
   ],
   "source": [
    "df_opt.info()"
   ]
  },
  {
   "cell_type": "code",
   "execution_count": 25,
   "id": "71e41a25",
   "metadata": {},
   "outputs": [
    {
     "data": {
      "text/html": [
       "<style>#sk-container-id-4 {color: black;}#sk-container-id-4 pre{padding: 0;}#sk-container-id-4 div.sk-toggleable {background-color: white;}#sk-container-id-4 label.sk-toggleable__label {cursor: pointer;display: block;width: 100%;margin-bottom: 0;padding: 0.3em;box-sizing: border-box;text-align: center;}#sk-container-id-4 label.sk-toggleable__label-arrow:before {content: \"▸\";float: left;margin-right: 0.25em;color: #696969;}#sk-container-id-4 label.sk-toggleable__label-arrow:hover:before {color: black;}#sk-container-id-4 div.sk-estimator:hover label.sk-toggleable__label-arrow:before {color: black;}#sk-container-id-4 div.sk-toggleable__content {max-height: 0;max-width: 0;overflow: hidden;text-align: left;background-color: #f0f8ff;}#sk-container-id-4 div.sk-toggleable__content pre {margin: 0.2em;color: black;border-radius: 0.25em;background-color: #f0f8ff;}#sk-container-id-4 input.sk-toggleable__control:checked~div.sk-toggleable__content {max-height: 200px;max-width: 100%;overflow: auto;}#sk-container-id-4 input.sk-toggleable__control:checked~label.sk-toggleable__label-arrow:before {content: \"▾\";}#sk-container-id-4 div.sk-estimator input.sk-toggleable__control:checked~label.sk-toggleable__label {background-color: #d4ebff;}#sk-container-id-4 div.sk-label input.sk-toggleable__control:checked~label.sk-toggleable__label {background-color: #d4ebff;}#sk-container-id-4 input.sk-hidden--visually {border: 0;clip: rect(1px 1px 1px 1px);clip: rect(1px, 1px, 1px, 1px);height: 1px;margin: -1px;overflow: hidden;padding: 0;position: absolute;width: 1px;}#sk-container-id-4 div.sk-estimator {font-family: monospace;background-color: #f0f8ff;border: 1px dotted black;border-radius: 0.25em;box-sizing: border-box;margin-bottom: 0.5em;}#sk-container-id-4 div.sk-estimator:hover {background-color: #d4ebff;}#sk-container-id-4 div.sk-parallel-item::after {content: \"\";width: 100%;border-bottom: 1px solid gray;flex-grow: 1;}#sk-container-id-4 div.sk-label:hover label.sk-toggleable__label {background-color: #d4ebff;}#sk-container-id-4 div.sk-serial::before {content: \"\";position: absolute;border-left: 1px solid gray;box-sizing: border-box;top: 0;bottom: 0;left: 50%;z-index: 0;}#sk-container-id-4 div.sk-serial {display: flex;flex-direction: column;align-items: center;background-color: white;padding-right: 0.2em;padding-left: 0.2em;position: relative;}#sk-container-id-4 div.sk-item {position: relative;z-index: 1;}#sk-container-id-4 div.sk-parallel {display: flex;align-items: stretch;justify-content: center;background-color: white;position: relative;}#sk-container-id-4 div.sk-item::before, #sk-container-id-4 div.sk-parallel-item::before {content: \"\";position: absolute;border-left: 1px solid gray;box-sizing: border-box;top: 0;bottom: 0;left: 50%;z-index: -1;}#sk-container-id-4 div.sk-parallel-item {display: flex;flex-direction: column;z-index: 1;position: relative;background-color: white;}#sk-container-id-4 div.sk-parallel-item:first-child::after {align-self: flex-end;width: 50%;}#sk-container-id-4 div.sk-parallel-item:last-child::after {align-self: flex-start;width: 50%;}#sk-container-id-4 div.sk-parallel-item:only-child::after {width: 0;}#sk-container-id-4 div.sk-dashed-wrapped {border: 1px dashed gray;margin: 0 0.4em 0.5em 0.4em;box-sizing: border-box;padding-bottom: 0.4em;background-color: white;}#sk-container-id-4 div.sk-label label {font-family: monospace;font-weight: bold;display: inline-block;line-height: 1.2em;}#sk-container-id-4 div.sk-label-container {text-align: center;}#sk-container-id-4 div.sk-container {/* jupyter's `normalize.less` sets `[hidden] { display: none; }` but bootstrap.min.css set `[hidden] { display: none !important; }` so we also need the `!important` here to be able to override the default hidden behavior on the sphinx rendered scikit-learn.org. See: https://github.com/scikit-learn/scikit-learn/issues/21755 */display: inline-block !important;position: relative;}#sk-container-id-4 div.sk-text-repr-fallback {display: none;}</style><div id=\"sk-container-id-4\" class=\"sk-top-container\"><div class=\"sk-text-repr-fallback\"><pre>Pipeline(steps=[(&#x27;ImputeMasVnrArea&#x27;,\n",
       "                 MeanMedianImputer(imputation_method=&#x27;mean&#x27;,\n",
       "                                   variables=[&#x27;MasVnrArea&#x27;])),\n",
       "                (&#x27;LogTransformation&#x27;,\n",
       "                 LogTransformer(base=&#x27;10&#x27;, variables=[&#x27;GrLivArea&#x27;]))])</pre><b>In a Jupyter environment, please rerun this cell to show the HTML representation or trust the notebook. <br />On GitHub, the HTML representation is unable to render, please try loading this page with nbviewer.org.</b></div><div class=\"sk-container\" hidden><div class=\"sk-item sk-dashed-wrapped\"><div class=\"sk-label-container\"><div class=\"sk-label sk-toggleable\"><input class=\"sk-toggleable__control sk-hidden--visually\" id=\"sk-estimator-id-10\" type=\"checkbox\" ><label for=\"sk-estimator-id-10\" class=\"sk-toggleable__label sk-toggleable__label-arrow\">Pipeline</label><div class=\"sk-toggleable__content\"><pre>Pipeline(steps=[(&#x27;ImputeMasVnrArea&#x27;,\n",
       "                 MeanMedianImputer(imputation_method=&#x27;mean&#x27;,\n",
       "                                   variables=[&#x27;MasVnrArea&#x27;])),\n",
       "                (&#x27;LogTransformation&#x27;,\n",
       "                 LogTransformer(base=&#x27;10&#x27;, variables=[&#x27;GrLivArea&#x27;]))])</pre></div></div></div><div class=\"sk-serial\"><div class=\"sk-item\"><div class=\"sk-estimator sk-toggleable\"><input class=\"sk-toggleable__control sk-hidden--visually\" id=\"sk-estimator-id-11\" type=\"checkbox\" ><label for=\"sk-estimator-id-11\" class=\"sk-toggleable__label sk-toggleable__label-arrow\">MeanMedianImputer</label><div class=\"sk-toggleable__content\"><pre>MeanMedianImputer(imputation_method=&#x27;mean&#x27;, variables=[&#x27;MasVnrArea&#x27;])</pre></div></div></div><div class=\"sk-item\"><div class=\"sk-estimator sk-toggleable\"><input class=\"sk-toggleable__control sk-hidden--visually\" id=\"sk-estimator-id-12\" type=\"checkbox\" ><label for=\"sk-estimator-id-12\" class=\"sk-toggleable__label sk-toggleable__label-arrow\">LogTransformer</label><div class=\"sk-toggleable__content\"><pre>LogTransformer(base=&#x27;10&#x27;, variables=[&#x27;GrLivArea&#x27;])</pre></div></div></div></div></div></div></div>"
      ],
      "text/plain": [
       "Pipeline(steps=[('ImputeMasVnrArea',\n",
       "                 MeanMedianImputer(imputation_method='mean',\n",
       "                                   variables=['MasVnrArea'])),\n",
       "                ('LogTransformation',\n",
       "                 LogTransformer(base='10', variables=['GrLivArea']))])"
      ]
     },
     "execution_count": 25,
     "metadata": {},
     "output_type": "execute_result"
    }
   ],
   "source": [
    "from sklearn.pipeline import Pipeline\n",
    "\n",
    "# preprocessing\n",
    "from sklearn.pipeline import Pipeline\n",
    "from sklearn.preprocessing import FunctionTransformer\n",
    "\n",
    "# Feature Engineering\n",
    "from feature_engine.selection import SmartCorrelatedSelection # Import SmartCorrelationSelection\n",
    "from feature_engine.encoding import OrdinalEncoder # Import OrdinalEncoder\n",
    "from feature_engine.transformation import LogTransformer  # Import LogTransformer\n",
    "from feature_engine.imputation import MeanMedianImputer # For Imputation\n",
    "from src.preprocessing import drop_unwanted_columns\n",
    "import joblib # to import preprocessing.py\n",
    "\n",
    "\n",
    "def PipelineDataCleaningAndFeatureEngineering_opt():\n",
    "    pipeline_opt = Pipeline([\n",
    "        # Function Transformer not needed anymore\n",
    "\n",
    "        # Impute GarageFinish using mode (most frequent)\n",
    "        # (\"ImputeGarageFinish\", CategoricalImputer(imputation_method='frequent', variables=['GarageFinish'])),\n",
    "\n",
    "        # Impute MasVnrArea using mean\n",
    "        (\"ImputeMasVnrArea\", MeanMedianImputer(imputation_method='mean', variables=['MasVnrArea'])),\n",
    "\n",
    "        # Encoding categorical variables using OrdinalEncoder, add GarageFinish\n",
    "        # (\"OrdinalCategoricalEncoder\", OrdinalEncoder(encoding_method='arbitrary',\n",
    "                                                     #variables=['GarageFinish'])),\n",
    "\n",
    "        # SmartCorrelatedSelection not needed anymore\n",
    "\n",
    "        # Apply log10 transformation to selected numeric features\n",
    "        # SalePrice is removed due to X_train data\n",
    "        (\"LogTransformation\", LogTransformer(variables=['GrLivArea'], base='10'))\n",
    "\n",
    "    ])\n",
    "\n",
    "    return pipeline_opt\n",
    "\n",
    "\n",
    "# Run the pipeline\n",
    "PipelineDataCleaningAndFeatureEngineering_opt()"
   ]
  },
  {
   "cell_type": "markdown",
   "id": "d6f5c5b5",
   "metadata": {},
   "source": [
    "### Train-test split after transforming the target"
   ]
  },
  {
   "cell_type": "code",
   "execution_count": 26,
   "id": "2c82c1d7",
   "metadata": {},
   "outputs": [],
   "source": [
    "from sklearn.model_selection import train_test_split\n",
    "\n",
    "# Transform target variable\n",
    "# df_opt['SalePrice'] = np.log10(df['SalePrice'])\n",
    "\n",
    "# Ensure GarageFinish is treated as categorical\n",
    "# df_opt['GarageFinish'] = df_opt['GarageFinish'].astype('object')\n",
    "\n",
    "# Split into features and target\n",
    "X = df_opt.drop('SalePrice', axis=1) # All columns except 'SalePrice' are features\n",
    "y = df_opt['SalePrice'] # 'SalePrice' is the target variable\n",
    "\n",
    "# Split into train and test sets (80% train, 20% test is common)\n",
    "X_train_opt, X_test_opt, y_train_opt, y_test_opt = train_test_split(X, y, test_size=0.2, random_state=0)"
   ]
  },
  {
   "cell_type": "markdown",
   "id": "ab5e3be2",
   "metadata": {},
   "source": [
    "### Apply DC and FE pipeline to optimized training and testing features"
   ]
  },
  {
   "cell_type": "code",
   "execution_count": 27,
   "id": "bac03df7",
   "metadata": {},
   "outputs": [
    {
     "name": "stdout",
     "output_type": "stream",
     "text": [
      "(1168, 5) (1168,) (292, 5) (292,)\n"
     ]
    }
   ],
   "source": [
    "pipeline_opt = PipelineDataCleaningAndFeatureEngineering_opt()\n",
    "\n",
    "X_train_opt = pipeline_opt.fit_transform(X_train_opt)\n",
    "X_test_opt = pipeline_opt.transform(X_test_opt)\n",
    "\n",
    "print(X_train_opt.shape, y_train_opt.shape, X_test_opt.shape, y_test_opt.shape)"
   ]
  },
  {
   "cell_type": "markdown",
   "id": "8ee949ae",
   "metadata": {},
   "source": [
    "### Apply regressor pipeline to optimized training and testing features"
   ]
  },
  {
   "cell_type": "code",
   "execution_count": 28,
   "id": "c902d2fb",
   "metadata": {},
   "outputs": [
    {
     "data": {
      "text/html": [
       "<style>#sk-container-id-5 {color: black;}#sk-container-id-5 pre{padding: 0;}#sk-container-id-5 div.sk-toggleable {background-color: white;}#sk-container-id-5 label.sk-toggleable__label {cursor: pointer;display: block;width: 100%;margin-bottom: 0;padding: 0.3em;box-sizing: border-box;text-align: center;}#sk-container-id-5 label.sk-toggleable__label-arrow:before {content: \"▸\";float: left;margin-right: 0.25em;color: #696969;}#sk-container-id-5 label.sk-toggleable__label-arrow:hover:before {color: black;}#sk-container-id-5 div.sk-estimator:hover label.sk-toggleable__label-arrow:before {color: black;}#sk-container-id-5 div.sk-toggleable__content {max-height: 0;max-width: 0;overflow: hidden;text-align: left;background-color: #f0f8ff;}#sk-container-id-5 div.sk-toggleable__content pre {margin: 0.2em;color: black;border-radius: 0.25em;background-color: #f0f8ff;}#sk-container-id-5 input.sk-toggleable__control:checked~div.sk-toggleable__content {max-height: 200px;max-width: 100%;overflow: auto;}#sk-container-id-5 input.sk-toggleable__control:checked~label.sk-toggleable__label-arrow:before {content: \"▾\";}#sk-container-id-5 div.sk-estimator input.sk-toggleable__control:checked~label.sk-toggleable__label {background-color: #d4ebff;}#sk-container-id-5 div.sk-label input.sk-toggleable__control:checked~label.sk-toggleable__label {background-color: #d4ebff;}#sk-container-id-5 input.sk-hidden--visually {border: 0;clip: rect(1px 1px 1px 1px);clip: rect(1px, 1px, 1px, 1px);height: 1px;margin: -1px;overflow: hidden;padding: 0;position: absolute;width: 1px;}#sk-container-id-5 div.sk-estimator {font-family: monospace;background-color: #f0f8ff;border: 1px dotted black;border-radius: 0.25em;box-sizing: border-box;margin-bottom: 0.5em;}#sk-container-id-5 div.sk-estimator:hover {background-color: #d4ebff;}#sk-container-id-5 div.sk-parallel-item::after {content: \"\";width: 100%;border-bottom: 1px solid gray;flex-grow: 1;}#sk-container-id-5 div.sk-label:hover label.sk-toggleable__label {background-color: #d4ebff;}#sk-container-id-5 div.sk-serial::before {content: \"\";position: absolute;border-left: 1px solid gray;box-sizing: border-box;top: 0;bottom: 0;left: 50%;z-index: 0;}#sk-container-id-5 div.sk-serial {display: flex;flex-direction: column;align-items: center;background-color: white;padding-right: 0.2em;padding-left: 0.2em;position: relative;}#sk-container-id-5 div.sk-item {position: relative;z-index: 1;}#sk-container-id-5 div.sk-parallel {display: flex;align-items: stretch;justify-content: center;background-color: white;position: relative;}#sk-container-id-5 div.sk-item::before, #sk-container-id-5 div.sk-parallel-item::before {content: \"\";position: absolute;border-left: 1px solid gray;box-sizing: border-box;top: 0;bottom: 0;left: 50%;z-index: -1;}#sk-container-id-5 div.sk-parallel-item {display: flex;flex-direction: column;z-index: 1;position: relative;background-color: white;}#sk-container-id-5 div.sk-parallel-item:first-child::after {align-self: flex-end;width: 50%;}#sk-container-id-5 div.sk-parallel-item:last-child::after {align-self: flex-start;width: 50%;}#sk-container-id-5 div.sk-parallel-item:only-child::after {width: 0;}#sk-container-id-5 div.sk-dashed-wrapped {border: 1px dashed gray;margin: 0 0.4em 0.5em 0.4em;box-sizing: border-box;padding-bottom: 0.4em;background-color: white;}#sk-container-id-5 div.sk-label label {font-family: monospace;font-weight: bold;display: inline-block;line-height: 1.2em;}#sk-container-id-5 div.sk-label-container {text-align: center;}#sk-container-id-5 div.sk-container {/* jupyter's `normalize.less` sets `[hidden] { display: none; }` but bootstrap.min.css set `[hidden] { display: none !important; }` so we also need the `!important` here to be able to override the default hidden behavior on the sphinx rendered scikit-learn.org. See: https://github.com/scikit-learn/scikit-learn/issues/21755 */display: inline-block !important;position: relative;}#sk-container-id-5 div.sk-text-repr-fallback {display: none;}</style><div id=\"sk-container-id-5\" class=\"sk-top-container\"><div class=\"sk-text-repr-fallback\"><pre>ExtraTreesRegressor(max_depth=20, min_samples_split=5)</pre><b>In a Jupyter environment, please rerun this cell to show the HTML representation or trust the notebook. <br />On GitHub, the HTML representation is unable to render, please try loading this page with nbviewer.org.</b></div><div class=\"sk-container\" hidden><div class=\"sk-item\"><div class=\"sk-estimator sk-toggleable\"><input class=\"sk-toggleable__control sk-hidden--visually\" id=\"sk-estimator-id-13\" type=\"checkbox\" checked><label for=\"sk-estimator-id-13\" class=\"sk-toggleable__label sk-toggleable__label-arrow\">ExtraTreesRegressor</label><div class=\"sk-toggleable__content\"><pre>ExtraTreesRegressor(max_depth=20, min_samples_split=5)</pre></div></div></div></div></div>"
      ],
      "text/plain": [
       "ExtraTreesRegressor(max_depth=20, min_samples_split=5)"
      ]
     },
     "execution_count": 28,
     "metadata": {},
     "output_type": "execute_result"
    }
   ],
   "source": [
    "# Fit the model on the training data\n",
    "pipeline_regressor.fit(X_train_opt, y_train_opt)"
   ]
  },
  {
   "cell_type": "markdown",
   "id": "95d1c6a1",
   "metadata": {},
   "source": [
    "---"
   ]
  },
  {
   "cell_type": "markdown",
   "id": "3d57d022",
   "metadata": {},
   "source": [
    "##  Step 4: Push files to Repo"
   ]
  },
  {
   "cell_type": "markdown",
   "id": "f6b5272d",
   "metadata": {},
   "source": [
    "The following files will be generated:\n",
    "- Train Set\n",
    "- Test Set\n",
    "- Data cleaning and Feature Engineering pipeline\n",
    "- Regressor pipeline"
   ]
  },
  {
   "cell_type": "code",
   "execution_count": 29,
   "id": "c4f0f518",
   "metadata": {},
   "outputs": [],
   "source": [
    "pipeline_dc_fe = pipeline\n",
    "pipeline_dc_fe_opt = pipeline_opt"
   ]
  },
  {
   "cell_type": "code",
   "execution_count": 30,
   "id": "dab2d9f7",
   "metadata": {},
   "outputs": [
    {
     "name": "stdout",
     "output_type": "stream",
     "text": [
      "[Errno 17] File exists: 'outputs/ml_pipelines/predict_SalePrice/v1'\n"
     ]
    },
    {
     "data": {
      "text/plain": [
       "['outputs/ml_pipelines/predict_SalePrice/v1/pipeline_regressor.pkl']"
      ]
     },
     "execution_count": 30,
     "metadata": {},
     "output_type": "execute_result"
    }
   ],
   "source": [
    "import joblib\n",
    "import os\n",
    "\n",
    "version = 'v1'\n",
    "file_path = f'outputs/ml_pipelines/predict_SalePrice/{version}'\n",
    "\n",
    "try:\n",
    "    os.makedirs(name=file_path)\n",
    "except Exception as e:\n",
    "    print(e)\n",
    "\n",
    "# Save trained model\n",
    "joblib.dump(value=pipeline_dc_fe ,\n",
    "            filename=f\"{file_path}/pipeline_data_cleaning_feat.pkl\")\n",
    "joblib.dump(value=pipeline_dc_fe_opt,\n",
    "            filename=f\"{file_path}/pipeline_data_cleaning_feat_opt.pkl\")\n",
    "joblib.dump(value=pipeline_regressor,\n",
    "            filename=f\"{file_path}/pipeline_regressor.pkl\")"
   ]
  },
  {
   "cell_type": "markdown",
   "id": "e4866eb1",
   "metadata": {},
   "source": [
    "## Train Set"
   ]
  },
  {
   "cell_type": "code",
   "execution_count": 31,
   "id": "8fc2bae2",
   "metadata": {},
   "outputs": [
    {
     "name": "stdout",
     "output_type": "stream",
     "text": [
      "(1168, 10)\n",
      "(1168, 5)\n"
     ]
    },
    {
     "data": {
      "text/html": [
       "<div>\n",
       "<style scoped>\n",
       "    .dataframe tbody tr th:only-of-type {\n",
       "        vertical-align: middle;\n",
       "    }\n",
       "\n",
       "    .dataframe tbody tr th {\n",
       "        vertical-align: top;\n",
       "    }\n",
       "\n",
       "    .dataframe thead th {\n",
       "        text-align: right;\n",
       "    }\n",
       "</style>\n",
       "<table border=\"1\" class=\"dataframe\">\n",
       "  <thead>\n",
       "    <tr style=\"text-align: right;\">\n",
       "      <th></th>\n",
       "      <th>GarageArea</th>\n",
       "      <th>GrLivArea</th>\n",
       "      <th>MasVnrArea</th>\n",
       "      <th>OverallQual</th>\n",
       "      <th>YearBuilt</th>\n",
       "    </tr>\n",
       "  </thead>\n",
       "  <tbody>\n",
       "    <tr>\n",
       "      <th>618</th>\n",
       "      <td>774</td>\n",
       "      <td>0.513481</td>\n",
       "      <td>452.0</td>\n",
       "      <td>9</td>\n",
       "      <td>2007</td>\n",
       "    </tr>\n",
       "    <tr>\n",
       "      <th>870</th>\n",
       "      <td>308</td>\n",
       "      <td>0.470019</td>\n",
       "      <td>0.0</td>\n",
       "      <td>5</td>\n",
       "      <td>1962</td>\n",
       "    </tr>\n",
       "    <tr>\n",
       "      <th>92</th>\n",
       "      <td>432</td>\n",
       "      <td>0.474810</td>\n",
       "      <td>0.0</td>\n",
       "      <td>5</td>\n",
       "      <td>1921</td>\n",
       "    </tr>\n",
       "    <tr>\n",
       "      <th>817</th>\n",
       "      <td>857</td>\n",
       "      <td>0.508884</td>\n",
       "      <td>148.0</td>\n",
       "      <td>8</td>\n",
       "      <td>2002</td>\n",
       "    </tr>\n",
       "    <tr>\n",
       "      <th>302</th>\n",
       "      <td>843</td>\n",
       "      <td>0.503491</td>\n",
       "      <td>150.0</td>\n",
       "      <td>7</td>\n",
       "      <td>2001</td>\n",
       "    </tr>\n",
       "  </tbody>\n",
       "</table>\n",
       "</div>"
      ],
      "text/plain": [
       "     GarageArea  GrLivArea  MasVnrArea  OverallQual  YearBuilt\n",
       "618         774   0.513481       452.0            9       2007\n",
       "870         308   0.470019         0.0            5       1962\n",
       "92          432   0.474810         0.0            5       1921\n",
       "817         857   0.508884       148.0            8       2002\n",
       "302         843   0.503491       150.0            7       2001"
      ]
     },
     "execution_count": 31,
     "metadata": {},
     "output_type": "execute_result"
    }
   ],
   "source": [
    "print(X_train.shape)\n",
    "X_train.head()\n",
    "\n",
    "print(X_train_opt.shape)\n",
    "X_train_opt.head()"
   ]
  },
  {
   "cell_type": "code",
   "execution_count": 32,
   "id": "49c9d958",
   "metadata": {},
   "outputs": [],
   "source": [
    "X_train.to_csv(f\"{file_path}/X_train.csv\", index=False)\n",
    "X_train_opt.to_csv(f\"{file_path}/X_train_opt.csv\", index=False)"
   ]
  },
  {
   "cell_type": "code",
   "execution_count": 33,
   "id": "845ed62b",
   "metadata": {},
   "outputs": [
    {
     "data": {
      "text/plain": [
       "618     314813\n",
       "870     109500\n",
       "92      163500\n",
       "817     271000\n",
       "302     205000\n",
       "         ...  \n",
       "763     337000\n",
       "835     128000\n",
       "1216    112000\n",
       "559     234000\n",
       "684     221000\n",
       "Name: SalePrice, Length: 1168, dtype: int64"
      ]
     },
     "execution_count": 33,
     "metadata": {},
     "output_type": "execute_result"
    }
   ],
   "source": [
    "y_train_opt"
   ]
  },
  {
   "cell_type": "code",
   "execution_count": 34,
   "id": "bed37ba1",
   "metadata": {},
   "outputs": [],
   "source": [
    "y_train.to_csv(f\"{file_path}/y_train.csv\", index=False)\n",
    "y_train_opt.to_csv(f\"{file_path}/y_train_opt.csv\", index=False)"
   ]
  },
  {
   "cell_type": "markdown",
   "id": "93387542",
   "metadata": {},
   "source": [
    "## Test Set"
   ]
  },
  {
   "cell_type": "code",
   "execution_count": 35,
   "id": "4086f99e",
   "metadata": {},
   "outputs": [
    {
     "name": "stdout",
     "output_type": "stream",
     "text": [
      "(292, 10)\n",
      "(292, 5)\n"
     ]
    },
    {
     "data": {
      "text/html": [
       "<div>\n",
       "<style scoped>\n",
       "    .dataframe tbody tr th:only-of-type {\n",
       "        vertical-align: middle;\n",
       "    }\n",
       "\n",
       "    .dataframe tbody tr th {\n",
       "        vertical-align: top;\n",
       "    }\n",
       "\n",
       "    .dataframe thead th {\n",
       "        text-align: right;\n",
       "    }\n",
       "</style>\n",
       "<table border=\"1\" class=\"dataframe\">\n",
       "  <thead>\n",
       "    <tr style=\"text-align: right;\">\n",
       "      <th></th>\n",
       "      <th>GarageArea</th>\n",
       "      <th>GrLivArea</th>\n",
       "      <th>MasVnrArea</th>\n",
       "      <th>OverallQual</th>\n",
       "      <th>YearBuilt</th>\n",
       "    </tr>\n",
       "  </thead>\n",
       "  <tbody>\n",
       "    <tr>\n",
       "      <th>529</th>\n",
       "      <td>484</td>\n",
       "      <td>0.531548</td>\n",
       "      <td>103.685262</td>\n",
       "      <td>6</td>\n",
       "      <td>1957</td>\n",
       "    </tr>\n",
       "    <tr>\n",
       "      <th>491</th>\n",
       "      <td>240</td>\n",
       "      <td>0.504893</td>\n",
       "      <td>0.000000</td>\n",
       "      <td>6</td>\n",
       "      <td>1941</td>\n",
       "    </tr>\n",
       "    <tr>\n",
       "      <th>459</th>\n",
       "      <td>352</td>\n",
       "      <td>0.488588</td>\n",
       "      <td>161.000000</td>\n",
       "      <td>5</td>\n",
       "      <td>1950</td>\n",
       "    </tr>\n",
       "    <tr>\n",
       "      <th>279</th>\n",
       "      <td>505</td>\n",
       "      <td>0.519274</td>\n",
       "      <td>299.000000</td>\n",
       "      <td>7</td>\n",
       "      <td>1977</td>\n",
       "    </tr>\n",
       "    <tr>\n",
       "      <th>655</th>\n",
       "      <td>264</td>\n",
       "      <td>0.482620</td>\n",
       "      <td>381.000000</td>\n",
       "      <td>6</td>\n",
       "      <td>1971</td>\n",
       "    </tr>\n",
       "  </tbody>\n",
       "</table>\n",
       "</div>"
      ],
      "text/plain": [
       "     GarageArea  GrLivArea  MasVnrArea  OverallQual  YearBuilt\n",
       "529         484   0.531548  103.685262            6       1957\n",
       "491         240   0.504893    0.000000            6       1941\n",
       "459         352   0.488588  161.000000            5       1950\n",
       "279         505   0.519274  299.000000            7       1977\n",
       "655         264   0.482620  381.000000            6       1971"
      ]
     },
     "execution_count": 35,
     "metadata": {},
     "output_type": "execute_result"
    }
   ],
   "source": [
    "print(X_test.shape)\n",
    "X_test.head()\n",
    "\n",
    "print(X_test_opt.shape)\n",
    "X_test_opt.head()"
   ]
  },
  {
   "cell_type": "code",
   "execution_count": 36,
   "id": "133b6d33",
   "metadata": {},
   "outputs": [],
   "source": [
    "X_test.to_csv(f\"{file_path}/X_test.csv\", index=False)\n",
    "X_test_opt.to_csv(f\"{file_path}/X_test_opt.csv\", index=False)"
   ]
  },
  {
   "cell_type": "code",
   "execution_count": 37,
   "id": "f3d3c7c5",
   "metadata": {},
   "outputs": [
    {
     "data": {
      "text/plain": [
       "529     200624\n",
       "491     133000\n",
       "459     110000\n",
       "279     192000\n",
       "655      88000\n",
       "         ...  \n",
       "326     324000\n",
       "440     555000\n",
       "1387    136000\n",
       "1323     82500\n",
       "61      101000\n",
       "Name: SalePrice, Length: 292, dtype: int64"
      ]
     },
     "execution_count": 37,
     "metadata": {},
     "output_type": "execute_result"
    }
   ],
   "source": [
    "y_test_opt"
   ]
  },
  {
   "cell_type": "code",
   "execution_count": 38,
   "id": "d99e60ff",
   "metadata": {},
   "outputs": [],
   "source": [
    "y_test.to_csv(f\"{file_path}/y_test.csv\", index=False)\n",
    "y_test_opt.to_csv(f\"{file_path}/y_test_opt.csv\", index=False)"
   ]
  },
  {
   "cell_type": "markdown",
   "id": "b0bbb9b4",
   "metadata": {},
   "source": [
    "---"
   ]
  },
  {
   "cell_type": "markdown",
   "id": "292529a2",
   "metadata": {},
   "source": [
    "## Step 5: Combine Data Engineering and Regressor pipeline (in progress)"
   ]
  },
  {
   "cell_type": "code",
   "execution_count": null,
   "id": "08b660bf",
   "metadata": {},
   "outputs": [
    {
     "data": {
      "text/html": [
       "<style>#sk-container-id-8 {color: black;}#sk-container-id-8 pre{padding: 0;}#sk-container-id-8 div.sk-toggleable {background-color: white;}#sk-container-id-8 label.sk-toggleable__label {cursor: pointer;display: block;width: 100%;margin-bottom: 0;padding: 0.3em;box-sizing: border-box;text-align: center;}#sk-container-id-8 label.sk-toggleable__label-arrow:before {content: \"▸\";float: left;margin-right: 0.25em;color: #696969;}#sk-container-id-8 label.sk-toggleable__label-arrow:hover:before {color: black;}#sk-container-id-8 div.sk-estimator:hover label.sk-toggleable__label-arrow:before {color: black;}#sk-container-id-8 div.sk-toggleable__content {max-height: 0;max-width: 0;overflow: hidden;text-align: left;background-color: #f0f8ff;}#sk-container-id-8 div.sk-toggleable__content pre {margin: 0.2em;color: black;border-radius: 0.25em;background-color: #f0f8ff;}#sk-container-id-8 input.sk-toggleable__control:checked~div.sk-toggleable__content {max-height: 200px;max-width: 100%;overflow: auto;}#sk-container-id-8 input.sk-toggleable__control:checked~label.sk-toggleable__label-arrow:before {content: \"▾\";}#sk-container-id-8 div.sk-estimator input.sk-toggleable__control:checked~label.sk-toggleable__label {background-color: #d4ebff;}#sk-container-id-8 div.sk-label input.sk-toggleable__control:checked~label.sk-toggleable__label {background-color: #d4ebff;}#sk-container-id-8 input.sk-hidden--visually {border: 0;clip: rect(1px 1px 1px 1px);clip: rect(1px, 1px, 1px, 1px);height: 1px;margin: -1px;overflow: hidden;padding: 0;position: absolute;width: 1px;}#sk-container-id-8 div.sk-estimator {font-family: monospace;background-color: #f0f8ff;border: 1px dotted black;border-radius: 0.25em;box-sizing: border-box;margin-bottom: 0.5em;}#sk-container-id-8 div.sk-estimator:hover {background-color: #d4ebff;}#sk-container-id-8 div.sk-parallel-item::after {content: \"\";width: 100%;border-bottom: 1px solid gray;flex-grow: 1;}#sk-container-id-8 div.sk-label:hover label.sk-toggleable__label {background-color: #d4ebff;}#sk-container-id-8 div.sk-serial::before {content: \"\";position: absolute;border-left: 1px solid gray;box-sizing: border-box;top: 0;bottom: 0;left: 50%;z-index: 0;}#sk-container-id-8 div.sk-serial {display: flex;flex-direction: column;align-items: center;background-color: white;padding-right: 0.2em;padding-left: 0.2em;position: relative;}#sk-container-id-8 div.sk-item {position: relative;z-index: 1;}#sk-container-id-8 div.sk-parallel {display: flex;align-items: stretch;justify-content: center;background-color: white;position: relative;}#sk-container-id-8 div.sk-item::before, #sk-container-id-8 div.sk-parallel-item::before {content: \"\";position: absolute;border-left: 1px solid gray;box-sizing: border-box;top: 0;bottom: 0;left: 50%;z-index: -1;}#sk-container-id-8 div.sk-parallel-item {display: flex;flex-direction: column;z-index: 1;position: relative;background-color: white;}#sk-container-id-8 div.sk-parallel-item:first-child::after {align-self: flex-end;width: 50%;}#sk-container-id-8 div.sk-parallel-item:last-child::after {align-self: flex-start;width: 50%;}#sk-container-id-8 div.sk-parallel-item:only-child::after {width: 0;}#sk-container-id-8 div.sk-dashed-wrapped {border: 1px dashed gray;margin: 0 0.4em 0.5em 0.4em;box-sizing: border-box;padding-bottom: 0.4em;background-color: white;}#sk-container-id-8 div.sk-label label {font-family: monospace;font-weight: bold;display: inline-block;line-height: 1.2em;}#sk-container-id-8 div.sk-label-container {text-align: center;}#sk-container-id-8 div.sk-container {/* jupyter's `normalize.less` sets `[hidden] { display: none; }` but bootstrap.min.css set `[hidden] { display: none !important; }` so we also need the `!important` here to be able to override the default hidden behavior on the sphinx rendered scikit-learn.org. See: https://github.com/scikit-learn/scikit-learn/issues/21755 */display: inline-block !important;position: relative;}#sk-container-id-8 div.sk-text-repr-fallback {display: none;}</style><div id=\"sk-container-id-8\" class=\"sk-top-container\"><div class=\"sk-text-repr-fallback\"><pre>Pipeline(steps=[(&#x27;preprocessing&#x27;,\n",
       "                 Pipeline(steps=[(&#x27;LogTransformation&#x27;,\n",
       "                                  LogTransformer(base=&#x27;10&#x27;,\n",
       "                                                 variables=[&#x27;GrLivArea&#x27;]))])),\n",
       "                (&#x27;pipline_regressor&#x27;,\n",
       "                 ExtraTreesRegressor(max_depth=20, min_samples_split=5))])</pre><b>In a Jupyter environment, please rerun this cell to show the HTML representation or trust the notebook. <br />On GitHub, the HTML representation is unable to render, please try loading this page with nbviewer.org.</b></div><div class=\"sk-container\" hidden><div class=\"sk-item sk-dashed-wrapped\"><div class=\"sk-label-container\"><div class=\"sk-label sk-toggleable\"><input class=\"sk-toggleable__control sk-hidden--visually\" id=\"sk-estimator-id-28\" type=\"checkbox\" ><label for=\"sk-estimator-id-28\" class=\"sk-toggleable__label sk-toggleable__label-arrow\">Pipeline</label><div class=\"sk-toggleable__content\"><pre>Pipeline(steps=[(&#x27;preprocessing&#x27;,\n",
       "                 Pipeline(steps=[(&#x27;LogTransformation&#x27;,\n",
       "                                  LogTransformer(base=&#x27;10&#x27;,\n",
       "                                                 variables=[&#x27;GrLivArea&#x27;]))])),\n",
       "                (&#x27;pipline_regressor&#x27;,\n",
       "                 ExtraTreesRegressor(max_depth=20, min_samples_split=5))])</pre></div></div></div><div class=\"sk-serial\"><div class=\"sk-item\"><div class=\"sk-label-container\"><div class=\"sk-label sk-toggleable\"><input class=\"sk-toggleable__control sk-hidden--visually\" id=\"sk-estimator-id-29\" type=\"checkbox\" ><label for=\"sk-estimator-id-29\" class=\"sk-toggleable__label sk-toggleable__label-arrow\">preprocessing: Pipeline</label><div class=\"sk-toggleable__content\"><pre>Pipeline(steps=[(&#x27;LogTransformation&#x27;,\n",
       "                 LogTransformer(base=&#x27;10&#x27;, variables=[&#x27;GrLivArea&#x27;]))])</pre></div></div></div><div class=\"sk-serial\"><div class=\"sk-item\"><div class=\"sk-estimator sk-toggleable\"><input class=\"sk-toggleable__control sk-hidden--visually\" id=\"sk-estimator-id-30\" type=\"checkbox\" ><label for=\"sk-estimator-id-30\" class=\"sk-toggleable__label sk-toggleable__label-arrow\">LogTransformer</label><div class=\"sk-toggleable__content\"><pre>LogTransformer(base=&#x27;10&#x27;, variables=[&#x27;GrLivArea&#x27;])</pre></div></div></div></div></div><div class=\"sk-item\"><div class=\"sk-estimator sk-toggleable\"><input class=\"sk-toggleable__control sk-hidden--visually\" id=\"sk-estimator-id-31\" type=\"checkbox\" ><label for=\"sk-estimator-id-31\" class=\"sk-toggleable__label sk-toggleable__label-arrow\">ExtraTreesRegressor</label><div class=\"sk-toggleable__content\"><pre>ExtraTreesRegressor(max_depth=20, min_samples_split=5)</pre></div></div></div></div></div></div></div>"
      ],
      "text/plain": [
       "Pipeline(steps=[('preprocessing',\n",
       "                 Pipeline(steps=[('LogTransformation',\n",
       "                                  LogTransformer(base='10',\n",
       "                                                 variables=['GrLivArea']))])),\n",
       "                ('pipline_regressor',\n",
       "                 ExtraTreesRegressor(max_depth=20, min_samples_split=5))])"
      ]
     },
     "execution_count": 87,
     "metadata": {},
     "output_type": "execute_result"
    }
   ],
   "source": [
    "from sklearn.pipeline import Pipeline\n",
    "from sklearn.ensemble import RandomForestRegressor\n",
    "from feature_engine.selection import SmartCorrelatedSelection\n",
    "from feature_engine.encoding import OrdinalEncoder\n",
    "from feature_engine.transformation import LogTransformer\n",
    "from sklearn.preprocessing import StandardScaler\n",
    "from sklearn.compose import ColumnTransformer\n",
    "import joblib\n",
    "import os\n",
    "import pandas as pd\n",
    "from sklearn.model_selection import train_test_split\n",
    "\n",
    "# Load data\n",
    "df = pd.read_csv(\"outputs/data_collected/house_pricing_data.csv\")\n",
    "\n",
    "# Define features and target\n",
    "X = df.drop(columns=['SalePrice'])  # Assuming you already have SalePrice\n",
    "y = df['SalePrice']\n",
    "\n",
    "# Data cleaning: Drop specified columns and fill missing values for relevant columns\n",
    "X = X.drop(columns=['BsmtFinType1', 'LotArea', 'BsmtFinType1', 'BsmtUnfSF', 'BedroomAbvGr', 'BsmtExposure', 'OverallCond', 'GarageYrBlt', 'LotFrontage', 'EnclosedPorch', 'WoodDeckSF', 'TotalBsmtSF', '1stFlrSF', 'GarageArea', '2ndFlrSF', 'KitchenQual', 'GarageFinish'])\n",
    "\n",
    "# Data cleaning: Fill missing values in 'MasVnrArea' column with the mean\n",
    "X['MasVnrArea'] = X['MasVnrArea'].fillna(X['MasVnrArea'].mean())\n",
    "\n",
    "# Data cleaning: Ensure the columns to which you will apply the log transformation are float64\n",
    "X['GrLivArea'] = X['GrLivArea'].astype('float64')\n",
    "\n",
    "# Define preprocessing steps\n",
    "preprocessing = Pipeline([\n",
    "        # Apply log10 transformation to selected numeric features\n",
    "        (\"LogTransformation\", LogTransformer(variables=['GrLivArea'], base='10'))\n",
    "    ])\n",
    "\n",
    "# Combine preprocessing with model\n",
    "full_pipeline = Pipeline([\n",
    "    (\"preprocessing\", preprocessing),\n",
    "    (\"pipline_regressor\", pipeline_regressor)\n",
    "    # (\"model\", RandomForestRegressor(n_estimators=100, random_state=42))\n",
    "])\n",
    "\n",
    "# Train-test split\n",
    "X_train, X_test, y_train, y_test = train_test_split(X, y, test_size=0.2, random_state=42)\n",
    "\n",
    "# Fit the model\n",
    "full_pipeline.fit(X_train, y_train)"
   ]
  },
  {
   "cell_type": "markdown",
   "id": "a12d8fbd",
   "metadata": {},
   "source": [
    "---"
   ]
  },
  {
   "cell_type": "markdown",
   "id": "1e508520",
   "metadata": {},
   "source": [
    "## Model evaluation"
   ]
  },
  {
   "cell_type": "code",
   "execution_count": null,
   "id": "77c9b46d",
   "metadata": {},
   "outputs": [
    {
     "name": "stdout",
     "output_type": "stream",
     "text": [
      "Mean Absolute Error (MAE): 20681.795260437055\n",
      "Mean Squared Error (MSE): 969655741.1103821\n",
      "Root Mean Squared Error (RMSE): 31139.295770944824\n"
     ]
    }
   ],
   "source": [
    "y_pred = full_pipeline.predict(X_test)\n",
    "\n",
    "# Evaluate the model using different metrics\n",
    "mae = mean_absolute_error(y_test, y_pred)  # Mean Absolute Error\n",
    "mse = mean_squared_error(y_test, y_pred)    # Mean Squared Error\n",
    "rmse = mean_squared_error(y_test, y_pred, squared=False)  # Root Mean Squared Error\n",
    "\n",
    "print(f\"Mean Absolute Error (MAE): {mae}\")\n",
    "print(f\"Mean Squared Error (MSE): {mse}\")\n",
    "print(f\"Root Mean Squared Error (RMSE): {rmse}\")"
   ]
  },
  {
   "cell_type": "markdown",
   "id": "765050d9",
   "metadata": {},
   "source": [
    "Save pipeline"
   ]
  },
  {
   "cell_type": "code",
   "execution_count": null,
   "id": "99f5edca",
   "metadata": {},
   "outputs": [
    {
     "data": {
      "text/plain": [
       "['outputs/ml_pipelines/predict_SalePrice/v1/full_pipeline.pkl']"
      ]
     },
     "execution_count": 93,
     "metadata": {},
     "output_type": "execute_result"
    }
   ],
   "source": [
    "# Create folder if needed\n",
    "model_path = \"outputs/ml_pipelines/predict_SalePrice/v1\"\n",
    "os.makedirs(model_path, exist_ok=True)\n",
    "\n",
    "# Save pipeline\n",
    "joblib.dump(full_pipeline, f\"{model_path}/full_pipeline.pkl\")"
   ]
  },
  {
   "cell_type": "markdown",
   "id": "effd5fe6",
   "metadata": {},
   "source": [
    "---"
   ]
  },
  {
   "cell_type": "markdown",
   "id": "dc75defc",
   "metadata": {},
   "source": [
    "## Visualisatons (in progress)"
   ]
  },
  {
   "cell_type": "markdown",
   "id": "511645fd",
   "metadata": {},
   "source": [
    "### Residuals Plot (for Regression Models)"
   ]
  },
  {
   "cell_type": "markdown",
   "id": "10f9e78a",
   "metadata": {},
   "source": [
    "Purpose: To check if residuals (errors) are randomly distributed. This helps in validating assumptions of homoscedasticity in regression models."
   ]
  },
  {
   "cell_type": "code",
   "execution_count": null,
   "id": "02ca1401",
   "metadata": {},
   "outputs": [
    {
     "data": {
      "image/png": "[encoded data removed]",
      "text/plain": [
       "<Figure size 1000x600 with 1 Axes>"
      ]
     },
     "metadata": {},
     "output_type": "display_data"
    }
   ],
   "source": [
    "import matplotlib.pyplot as plt\n",
    "\n",
    "# Assuming there is a regression model and y_pred provided\n",
    "residuals = y_test - y_pred\n",
    "\n",
    "plt.figure(figsize=(10, 6))\n",
    "plt.scatter(y_pred, residuals, color='blue', alpha=0.5)\n",
    "plt.axhline(0, color='red', linestyle='--')\n",
    "plt.xlabel('Predicted Values')\n",
    "plt.ylabel('Residuals')\n",
    "plt.title('Residuals vs Predicted Values')\n",
    "plt.show()"
   ]
  }
 ],
 "metadata": {
  "kernelspec": {
   "display_name": "3.12.1",
   "language": "python",
   "name": "python3"
  },
  "language_info": {
   "codemirror_mode": {
    "name": "ipython",
    "version": 3
   },
   "file_extension": ".py",
   "mimetype": "text/x-python",
   "name": "python",
   "nbconvert_exporter": "python",
   "pygments_lexer": "ipython3",
   "version": "3.12.1"
  }
 },
 "nbformat": 4,
 "nbformat_minor": 5
}
