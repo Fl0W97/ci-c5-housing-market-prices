{
 "cells": [
  {
   "cell_type": "markdown",
   "metadata": {},
   "source": [
    "# **Data Collection Notebook**"
   ]
  },
  {
   "cell_type": "markdown",
   "metadata": {},
   "source": [
    "## Objectives\n",
    "- Fetch data from Kaggle and save it as raw data.\n",
    "- Inspect the data and save it under outputs\n",
    "\n",
    "## Inputs\n",
    "- Kaggle JSON file - the authentication token.\n",
    "\n",
    "## Outputs\n",
    "- Generate Dataset: outputs/data_collection.csv\n",
    "\n",
    "## Additional Comments / Conclusions\n",
    "- The data is provided by Code Institute as training data for this project 5.\n",
    "- The following parameter do not have a numeric type: ['BsmtExposure', 'BsmtFinType1', 'GarageFinish', 'KitchenQual'], dtype='object'\n",
    "- The following columns have the most Missing Values: ['EnclosedPorch', 'WoodDeckSF', 'LotFrontage ', 'GarageFinish', 'BsmtFinType1']\n",
    "- The parameters which have the highest correlation with Sales Price are : 'OverallQual' and 'GrLivArea' \n",
    "\n",
    "---"
   ]
  },
  {
   "cell_type": "markdown",
   "metadata": {},
   "source": [
    "## Install following python packages in the notebooks"
   ]
  },
  {
   "cell_type": "markdown",
   "metadata": {},
   "source": [
    "numpy==1.26.1\n",
    "pandas==2.1.1\n",
    "matplotlib==3.8.0\n",
    "seaborn==0.13.2\n",
    "ydata-profiling==4.12.0 # This package can be removed prior to deployment\n",
    "plotly==5.17.0\n",
    "ppscore==1.1.0 # This package can be removed prior to deployment\n",
    "streamlit==1.40.2\n",
    "feature-engine==1.6.1\n",
    "imbalanced-learn==0.11.0\n",
    "scikit-learn==1.3.1\n",
    "xgboost==1.7.6\n",
    "yellowbrick==1.5 # This package can be removed prior to deployment\n",
    "Pillow==10.0.1 # This package can be removed prior to deployment"
   ]
  },
  {
   "cell_type": "markdown",
   "metadata": {},
   "source": [
    "---"
   ]
  },
  {
   "cell_type": "markdown",
   "metadata": {},
   "source": [
    "## Change working directory"
   ]
  },
  {
   "cell_type": "markdown",
   "metadata": {},
   "source": [
    "We need to change the working directory from its current folder to its parent folder\n",
    "* We access the current directory with os.getcwd()"
   ]
  },
  {
   "cell_type": "code",
   "execution_count": 1,
   "metadata": {},
   "outputs": [
    {
     "data": {
      "text/plain": [
       "'/workspaces/ci-c5-housing-market-prices/jupyter_notebooks'"
      ]
     },
     "execution_count": 1,
     "metadata": {},
     "output_type": "execute_result"
    }
   ],
   "source": [
    "import os\n",
    "current_dir = os.getcwd()\n",
    "current_dir"
   ]
  },
  {
   "cell_type": "code",
   "execution_count": 2,
   "metadata": {},
   "outputs": [
    {
     "name": "stdout",
     "output_type": "stream",
     "text": [
      "You set a new current directory\n"
     ]
    }
   ],
   "source": [
    "os.chdir(os.path.dirname(current_dir))\n",
    "print(\"You set a new current directory\")"
   ]
  },
  {
   "cell_type": "code",
   "execution_count": 3,
   "metadata": {},
   "outputs": [
    {
     "data": {
      "text/plain": [
       "'/workspaces/ci-c5-housing-market-prices'"
      ]
     },
     "execution_count": 3,
     "metadata": {},
     "output_type": "execute_result"
    }
   ],
   "source": [
    "current_dir = os.getcwd()\n",
    "current_dir"
   ]
  },
  {
   "cell_type": "markdown",
   "metadata": {},
   "source": [
    "---"
   ]
  },
  {
   "cell_type": "markdown",
   "metadata": {},
   "source": [
    "## Get data"
   ]
  },
  {
   "cell_type": "markdown",
   "metadata": {},
   "source": [
    "Data is provided by Kaggle. The file is downloaded unzipped and manually added to the project via drag and drop."
   ]
  },
  {
   "cell_type": "code",
   "execution_count": 31,
   "metadata": {},
   "outputs": [],
   "source": [
    "import os\n",
    "os.environ['KAGGLE_CONFIG_DIR'] = os.getcwd()"
   ]
  },
  {
   "cell_type": "markdown",
   "metadata": {},
   "source": [
    "---"
   ]
  },
  {
   "cell_type": "markdown",
   "metadata": {},
   "source": [
    "## Load and insprect Kaggle data"
   ]
  },
  {
   "cell_type": "code",
   "execution_count": 4,
   "metadata": {},
   "outputs": [
    {
     "data": {
      "text/html": [
       "<div>\n",
       "<style scoped>\n",
       "    .dataframe tbody tr th:only-of-type {\n",
       "        vertical-align: middle;\n",
       "    }\n",
       "\n",
       "    .dataframe tbody tr th {\n",
       "        vertical-align: top;\n",
       "    }\n",
       "\n",
       "    .dataframe thead th {\n",
       "        text-align: right;\n",
       "    }\n",
       "</style>\n",
       "<table border=\"1\" class=\"dataframe\">\n",
       "  <thead>\n",
       "    <tr style=\"text-align: right;\">\n",
       "      <th></th>\n",
       "      <th>1stFlrSF</th>\n",
       "      <th>2ndFlrSF</th>\n",
       "      <th>BedroomAbvGr</th>\n",
       "      <th>BsmtExposure</th>\n",
       "      <th>BsmtFinSF1</th>\n",
       "      <th>BsmtFinType1</th>\n",
       "      <th>BsmtUnfSF</th>\n",
       "      <th>EnclosedPorch</th>\n",
       "      <th>GarageArea</th>\n",
       "      <th>GarageFinish</th>\n",
       "      <th>...</th>\n",
       "      <th>LotFrontage</th>\n",
       "      <th>MasVnrArea</th>\n",
       "      <th>OpenPorchSF</th>\n",
       "      <th>OverallCond</th>\n",
       "      <th>OverallQual</th>\n",
       "      <th>TotalBsmtSF</th>\n",
       "      <th>WoodDeckSF</th>\n",
       "      <th>YearBuilt</th>\n",
       "      <th>YearRemodAdd</th>\n",
       "      <th>SalePrice</th>\n",
       "    </tr>\n",
       "  </thead>\n",
       "  <tbody>\n",
       "    <tr>\n",
       "      <th>0</th>\n",
       "      <td>856</td>\n",
       "      <td>854.0</td>\n",
       "      <td>3.0</td>\n",
       "      <td>No</td>\n",
       "      <td>706</td>\n",
       "      <td>GLQ</td>\n",
       "      <td>150</td>\n",
       "      <td>0.0</td>\n",
       "      <td>548</td>\n",
       "      <td>RFn</td>\n",
       "      <td>...</td>\n",
       "      <td>65.0</td>\n",
       "      <td>196.0</td>\n",
       "      <td>61</td>\n",
       "      <td>5</td>\n",
       "      <td>7</td>\n",
       "      <td>856</td>\n",
       "      <td>0.0</td>\n",
       "      <td>2003</td>\n",
       "      <td>2003</td>\n",
       "      <td>208500</td>\n",
       "    </tr>\n",
       "    <tr>\n",
       "      <th>1</th>\n",
       "      <td>1262</td>\n",
       "      <td>0.0</td>\n",
       "      <td>3.0</td>\n",
       "      <td>Gd</td>\n",
       "      <td>978</td>\n",
       "      <td>ALQ</td>\n",
       "      <td>284</td>\n",
       "      <td>NaN</td>\n",
       "      <td>460</td>\n",
       "      <td>RFn</td>\n",
       "      <td>...</td>\n",
       "      <td>80.0</td>\n",
       "      <td>0.0</td>\n",
       "      <td>0</td>\n",
       "      <td>8</td>\n",
       "      <td>6</td>\n",
       "      <td>1262</td>\n",
       "      <td>NaN</td>\n",
       "      <td>1976</td>\n",
       "      <td>1976</td>\n",
       "      <td>181500</td>\n",
       "    </tr>\n",
       "    <tr>\n",
       "      <th>2</th>\n",
       "      <td>920</td>\n",
       "      <td>866.0</td>\n",
       "      <td>3.0</td>\n",
       "      <td>Mn</td>\n",
       "      <td>486</td>\n",
       "      <td>GLQ</td>\n",
       "      <td>434</td>\n",
       "      <td>0.0</td>\n",
       "      <td>608</td>\n",
       "      <td>RFn</td>\n",
       "      <td>...</td>\n",
       "      <td>68.0</td>\n",
       "      <td>162.0</td>\n",
       "      <td>42</td>\n",
       "      <td>5</td>\n",
       "      <td>7</td>\n",
       "      <td>920</td>\n",
       "      <td>NaN</td>\n",
       "      <td>2001</td>\n",
       "      <td>2002</td>\n",
       "      <td>223500</td>\n",
       "    </tr>\n",
       "    <tr>\n",
       "      <th>3</th>\n",
       "      <td>961</td>\n",
       "      <td>NaN</td>\n",
       "      <td>NaN</td>\n",
       "      <td>No</td>\n",
       "      <td>216</td>\n",
       "      <td>ALQ</td>\n",
       "      <td>540</td>\n",
       "      <td>NaN</td>\n",
       "      <td>642</td>\n",
       "      <td>Unf</td>\n",
       "      <td>...</td>\n",
       "      <td>60.0</td>\n",
       "      <td>0.0</td>\n",
       "      <td>35</td>\n",
       "      <td>5</td>\n",
       "      <td>7</td>\n",
       "      <td>756</td>\n",
       "      <td>NaN</td>\n",
       "      <td>1915</td>\n",
       "      <td>1970</td>\n",
       "      <td>140000</td>\n",
       "    </tr>\n",
       "    <tr>\n",
       "      <th>4</th>\n",
       "      <td>1145</td>\n",
       "      <td>NaN</td>\n",
       "      <td>4.0</td>\n",
       "      <td>Av</td>\n",
       "      <td>655</td>\n",
       "      <td>GLQ</td>\n",
       "      <td>490</td>\n",
       "      <td>0.0</td>\n",
       "      <td>836</td>\n",
       "      <td>RFn</td>\n",
       "      <td>...</td>\n",
       "      <td>84.0</td>\n",
       "      <td>350.0</td>\n",
       "      <td>84</td>\n",
       "      <td>5</td>\n",
       "      <td>8</td>\n",
       "      <td>1145</td>\n",
       "      <td>NaN</td>\n",
       "      <td>2000</td>\n",
       "      <td>2000</td>\n",
       "      <td>250000</td>\n",
       "    </tr>\n",
       "  </tbody>\n",
       "</table>\n",
       "<p>5 rows × 24 columns</p>\n",
       "</div>"
      ],
      "text/plain": [
       "   1stFlrSF  2ndFlrSF  BedroomAbvGr BsmtExposure  BsmtFinSF1 BsmtFinType1  \\\n",
       "0       856     854.0           3.0           No         706          GLQ   \n",
       "1      1262       0.0           3.0           Gd         978          ALQ   \n",
       "2       920     866.0           3.0           Mn         486          GLQ   \n",
       "3       961       NaN           NaN           No         216          ALQ   \n",
       "4      1145       NaN           4.0           Av         655          GLQ   \n",
       "\n",
       "   BsmtUnfSF  EnclosedPorch  GarageArea GarageFinish  ...  LotFrontage  \\\n",
       "0        150            0.0         548          RFn  ...         65.0   \n",
       "1        284            NaN         460          RFn  ...         80.0   \n",
       "2        434            0.0         608          RFn  ...         68.0   \n",
       "3        540            NaN         642          Unf  ...         60.0   \n",
       "4        490            0.0         836          RFn  ...         84.0   \n",
       "\n",
       "   MasVnrArea OpenPorchSF  OverallCond  OverallQual  TotalBsmtSF  WoodDeckSF  \\\n",
       "0       196.0          61            5            7          856         0.0   \n",
       "1         0.0           0            8            6         1262         NaN   \n",
       "2       162.0          42            5            7          920         NaN   \n",
       "3         0.0          35            5            7          756         NaN   \n",
       "4       350.0          84            5            8         1145         NaN   \n",
       "\n",
       "   YearBuilt  YearRemodAdd  SalePrice  \n",
       "0       2003          2003     208500  \n",
       "1       1976          1976     181500  \n",
       "2       2001          2002     223500  \n",
       "3       1915          1970     140000  \n",
       "4       2000          2000     250000  \n",
       "\n",
       "[5 rows x 24 columns]"
      ]
     },
     "execution_count": 4,
     "metadata": {},
     "output_type": "execute_result"
    }
   ],
   "source": [
    "import pandas as pd\n",
    "df = pd.read_csv(r\"inputs/house_prices_records.csv\")\n",
    "df.head()\n",
    "\n",
    "# suggestions for fixation: use \\\\, r\"\", / - it all didn't work out"
   ]
  },
  {
   "cell_type": "markdown",
   "metadata": {},
   "source": [
    "## Check data types and identify all non-numeric values:"
   ]
  },
  {
   "cell_type": "code",
   "execution_count": 5,
   "metadata": {},
   "outputs": [
    {
     "name": "stdout",
     "output_type": "stream",
     "text": [
      "<class 'pandas.core.frame.DataFrame'>\n",
      "RangeIndex: 1460 entries, 0 to 1459\n",
      "Data columns (total 24 columns):\n",
      " #   Column         Non-Null Count  Dtype  \n",
      "---  ------         --------------  -----  \n",
      " 0   1stFlrSF       1460 non-null   int64  \n",
      " 1   2ndFlrSF       1374 non-null   float64\n",
      " 2   BedroomAbvGr   1361 non-null   float64\n",
      " 3   BsmtExposure   1422 non-null   object \n",
      " 4   BsmtFinSF1     1460 non-null   int64  \n",
      " 5   BsmtFinType1   1315 non-null   object \n",
      " 6   BsmtUnfSF      1460 non-null   int64  \n",
      " 7   EnclosedPorch  136 non-null    float64\n",
      " 8   GarageArea     1460 non-null   int64  \n",
      " 9   GarageFinish   1225 non-null   object \n",
      " 10  GarageYrBlt    1379 non-null   float64\n",
      " 11  GrLivArea      1460 non-null   int64  \n",
      " 12  KitchenQual    1460 non-null   object \n",
      " 13  LotArea        1460 non-null   int64  \n",
      " 14  LotFrontage    1201 non-null   float64\n",
      " 15  MasVnrArea     1452 non-null   float64\n",
      " 16  OpenPorchSF    1460 non-null   int64  \n",
      " 17  OverallCond    1460 non-null   int64  \n",
      " 18  OverallQual    1460 non-null   int64  \n",
      " 19  TotalBsmtSF    1460 non-null   int64  \n",
      " 20  WoodDeckSF     155 non-null    float64\n",
      " 21  YearBuilt      1460 non-null   int64  \n",
      " 22  YearRemodAdd   1460 non-null   int64  \n",
      " 23  SalePrice      1460 non-null   int64  \n",
      "dtypes: float64(7), int64(13), object(4)\n",
      "memory usage: 273.9+ KB\n"
     ]
    }
   ],
   "source": [
    "df.info()"
   ]
  },
  {
   "cell_type": "code",
   "execution_count": 11,
   "metadata": {},
   "outputs": [
    {
     "name": "stdout",
     "output_type": "stream",
     "text": [
      "\n",
      "Non-Numeric Columns:\n",
      "Index(['BsmtExposure', 'BsmtFinType1', 'GarageFinish', 'KitchenQual'], dtype='object')\n"
     ]
    }
   ],
   "source": [
    "non_numeric_columns = df.select_dtypes(include=['object']).columns\n",
    "print(\"\\nNon-Numeric Columns:\")\n",
    "print(non_numeric_columns)"
   ]
  },
  {
   "cell_type": "markdown",
   "metadata": {},
   "source": [
    "## Get to know the data based on Sales Price. Provide average, median, highest and lowest values"
   ]
  },
  {
   "cell_type": "code",
   "execution_count": 12,
   "metadata": {},
   "outputs": [
    {
     "name": "stdout",
     "output_type": "stream",
     "text": [
      "Average Sales Price: 180921.19589041095\n",
      "Median Sales Price: 163000.0\n",
      "Highest Sales Price: 755000\n",
      "Lowest Sales Price: 34900\n",
      "Outliers in Sales Price:\n",
      "      1stFlrSF  2ndFlrSF  BedroomAbvGr BsmtExposure  BsmtFinSF1 BsmtFinType1  \\\n",
      "11        1182    1142.0           4.0           No         998          NaN   \n",
      "53        1842       0.0           0.0           Gd        1810          GLQ   \n",
      "58        1426    1519.0           3.0           Gd           0          Unf   \n",
      "112       1282    1414.0           4.0           Av         984          GLQ   \n",
      "151       1710       0.0           2.0           Gd        1400          NaN   \n",
      "...        ...       ...           ...          ...         ...          ...   \n",
      "1268      1968    1479.0           4.0           Mn         192          Rec   \n",
      "1353      2053    1185.0           4.0           Av         816          NaN   \n",
      "1373      2633       0.0           2.0           Gd        1282          GLQ   \n",
      "1388      1746       0.0           3.0           Gd        1320          GLQ   \n",
      "1437      1932       0.0           2.0           Av        1336          GLQ   \n",
      "\n",
      "      BsmtUnfSF  EnclosedPorch  GarageArea GarageFinish  ...  LotFrontage  \\\n",
      "11          177            NaN         736          Fin  ...         85.0   \n",
      "53           32            NaN         894          Fin  ...         68.0   \n",
      "58         1410            NaN         641          Fin  ...         66.0   \n",
      "112         280            NaN         792          NaN  ...         77.0   \n",
      "151         310            NaN         866          RFn  ...        107.0   \n",
      "...         ...            ...         ...          ...  ...          ...   \n",
      "1268        536            NaN        1014          NaN  ...          NaN   \n",
      "1353       1217            NaN         666          Fin  ...         56.0   \n",
      "1373       1351            NaN         804          RFn  ...          NaN   \n",
      "1388        426            NaN         758          Fin  ...         42.0   \n",
      "1437        596            NaN         774          Fin  ...         96.0   \n",
      "\n",
      "      MasVnrArea OpenPorchSF  OverallCond  OverallQual  TotalBsmtSF  \\\n",
      "11         286.0          21            5            9         1175   \n",
      "53           0.0          72            5            9         1842   \n",
      "58        1031.0           0            5           10         1410   \n",
      "112        220.0         184            5            7         1264   \n",
      "151        436.0         102            5            8         1710   \n",
      "...          ...         ...          ...          ...          ...   \n",
      "1268       632.0          12            9            8          728   \n",
      "1353       579.0          86            5            8         2033   \n",
      "1373       705.0         140            5           10         2633   \n",
      "1388       160.0          39            5            9         1746   \n",
      "1437       426.0          66            5            8         1932   \n",
      "\n",
      "      WoodDeckSF  YearBuilt  YearRemodAdd  SalePrice  \n",
      "11           NaN       2005          2006     345000  \n",
      "53           NaN       1981          1987     385000  \n",
      "58           NaN       2006          2006     438780  \n",
      "112          NaN       2007          2007     383970  \n",
      "151          NaN       2007          2008     372402  \n",
      "...          ...        ...           ...        ...  \n",
      "1268         NaN       1935          1997     381000  \n",
      "1353         NaN       1995          1996     410000  \n",
      "1373         NaN       2001          2002     466500  \n",
      "1388         NaN       2006          2007     377500  \n",
      "1437         NaN       2008          2008     394617  \n",
      "\n",
      "[61 rows x 24 columns]\n",
      "Summary Statistics:\n",
      "count      1460.000000\n",
      "mean     180921.195890\n",
      "std       79442.502883\n",
      "min       34900.000000\n",
      "25%      129975.000000\n",
      "50%      163000.000000\n",
      "75%      214000.000000\n",
      "max      755000.000000\n",
      "Name: SalePrice, dtype: float64\n"
     ]
    }
   ],
   "source": [
    "# Calculate the average (mean) of the 'sales price' column\n",
    "average_sales_price = df['SalePrice'].mean()\n",
    "print(f\"Average Sales Price: {average_sales_price}\")\n",
    "\n",
    "# Calculate the median of the 'sales price' column\n",
    "median_sales_price = df['SalePrice'].median()\n",
    "print(f\"Median Sales Price: {median_sales_price}\")\n",
    "\n",
    "# Calculate the highest and lowest value of the 'sales price' column\n",
    "highest_sales_price = df['SalePrice'].max()\n",
    "lowest_sales_price = df['SalePrice'].min()\n",
    "print(f\"Highest Sales Price: {highest_sales_price}\")\n",
    "print(f\"Lowest Sales Price: {lowest_sales_price}\")\n",
    "\n",
    "# Calculate the Interquartile Range (IQR) to identify outliers\n",
    "Q1 = df['SalePrice'].quantile(0.25)\n",
    "Q3 = df['SalePrice'].quantile(0.75)\n",
    "IQR = Q3 - Q1\n",
    "\n",
    "# Define outliers as values outside of 1.5 * IQR above Q3 or below Q1\n",
    "outliers = df[(df['SalePrice'] < (Q1 - 1.5 * IQR)) | (df['SalePrice'] > (Q3 + 1.5 * IQR))]\n",
    "print(f\"Outliers in Sales Price:\\n{outliers}\")\n",
    "\n",
    "# Display the summary statistics for 'sales price'\n",
    "summary_stats = df['SalePrice'].describe()\n",
    "print(f\"Summary Statistics:\\n{summary_stats}\")"
   ]
  },
  {
   "cell_type": "markdown",
   "metadata": {},
   "source": [
    "### Identifying missing values"
   ]
  },
  {
   "cell_type": "code",
   "execution_count": 13,
   "metadata": {},
   "outputs": [
    {
     "name": "stdout",
     "output_type": "stream",
     "text": [
      "\n",
      "Number of Missing Values Per Column:\n",
      "1stFlrSF            0\n",
      "2ndFlrSF           86\n",
      "BedroomAbvGr       99\n",
      "BsmtExposure       38\n",
      "BsmtFinSF1          0\n",
      "BsmtFinType1      145\n",
      "BsmtUnfSF           0\n",
      "EnclosedPorch    1324\n",
      "GarageArea          0\n",
      "GarageFinish      235\n",
      "GarageYrBlt        81\n",
      "GrLivArea           0\n",
      "KitchenQual         0\n",
      "LotArea             0\n",
      "LotFrontage       259\n",
      "MasVnrArea          8\n",
      "OpenPorchSF         0\n",
      "OverallCond         0\n",
      "OverallQual         0\n",
      "TotalBsmtSF         0\n",
      "WoodDeckSF       1305\n",
      "YearBuilt           0\n",
      "YearRemodAdd        0\n",
      "SalePrice           0\n",
      "dtype: int64\n"
     ]
    }
   ],
   "source": [
    "# Check for missing values in the entire dataset\n",
    "missing_values = df.isnull()\n",
    "\n",
    "# Count the number of missing values per column\n",
    "missing_count_per_column = missing_values.sum()\n",
    "print(\"\\nNumber of Missing Values Per Column:\")\n",
    "print(missing_count_per_column)"
   ]
  },
  {
   "cell_type": "markdown",
   "metadata": {},
   "source": [
    "Total number of missing values in the entire dataset (counting each 'True' as 1)"
   ]
  },
  {
   "cell_type": "code",
   "execution_count": 14,
   "metadata": {},
   "outputs": [
    {
     "name": "stdout",
     "output_type": "stream",
     "text": [
      "\n",
      "Total Missing Values in the Dataset: 3580\n"
     ]
    }
   ],
   "source": [
    "total_missing_values = missing_values.sum().sum()\n",
    "print(f\"\\nTotal Missing Values in the Dataset: {total_missing_values}\")"
   ]
  },
  {
   "cell_type": "markdown",
   "metadata": {},
   "source": [
    "Get the top 5 columns with the most missing values"
   ]
  },
  {
   "cell_type": "code",
   "execution_count": 15,
   "metadata": {},
   "outputs": [
    {
     "name": "stdout",
     "output_type": "stream",
     "text": [
      "\n",
      "Top 5 Columns with Most Missing Values:\n",
      "EnclosedPorch    1324\n",
      "WoodDeckSF       1305\n",
      "LotFrontage       259\n",
      "GarageFinish      235\n",
      "BsmtFinType1      145\n",
      "dtype: int64\n"
     ]
    }
   ],
   "source": [
    "top_5_missing_columns = missing_count_per_column.sort_values(ascending=False).head(5)\n",
    "print(\"\\nTop 5 Columns with Most Missing Values:\")\n",
    "print(top_5_missing_columns)"
   ]
  },
  {
   "cell_type": "markdown",
   "metadata": {},
   "source": [
    "### Understanding the missing values:\n",
    "\n",
    "#### Columns with 0 missing values:\n",
    "\n",
    "    1stFlrSF, BsmtFinSF1, BsmtUnfSF, GrLivArea, KitchenQual, LotArea, OverallCond, OverallQual, TotalBsmtSF, YearBuilt, YearRemodAdd, SalePrice\n",
    "    \n",
    "These columns don't require any action since they have no missing values.\n",
    "\n",
    "#### Columns with a substantial number of missing values:\n",
    "\n",
    "    EnclosedPorch (1324 missing), WoodDeckSF (1305 missing)\n",
    "    \n",
    "These columns have a very high number of missing values (likely close to being empty columns). It might be better to drop them from the dataset because imputing them would likely not be reliable, and they may not contribute much to your analysis or model.\n",
    "\n",
    "#### Columns with moderate missing values:\n",
    "\n",
    "    2ndFlrSF (86 missing), BedroomAbvGr (99 missing), BsmtExposure (38 missing), BsmtFinType1 (145 missing), GarageFinish (235 missing), GarageYrBlt (81 missing), LotFrontage (259 missing), MasVnrArea (8 missing)\n",
    "    \n",
    "These columns have moderate amounts of missing data. You should consider imputation or, in some cases, dropping them, depending on their relevance to the analysis."
   ]
  },
  {
   "cell_type": "markdown",
   "metadata": {},
   "source": [
    "### Results of the correlation analysis"
   ]
  },
  {
   "cell_type": "markdown",
   "metadata": {},
   "source": [
    "According to the results of the corelation analysis the following parameters have the biggest impact on the sales price:\n",
    "\n",
    "#### High Correlation: Correlation coefficient ∣r∣>0.7∣r∣>0.7\n",
    "\n",
    "- OverallQual      0.790982\n",
    "- GrLivArea        0.708624\n",
    "\n",
    "\n",
    "#### Medium Correlation: Correlation coefficient ∣r∣∈[0.3,0.7]∣r∣∈[0.3,0.7]\n",
    "\n",
    "- KitchenQual      0.659600\n",
    "- GarageArea       0.623431\n",
    "- TotalBsmtSF      0.613581\n",
    "- 1stFlrSF         0.605852\n",
    "- YearBuilt        0.522897\n",
    "- GarageFinish     0.510537\n",
    "- YearRemodAdd     0.507101\n",
    "- GarageYrBlt      0.486362\n",
    "- MasVnrArea       0.477493\n",
    "- BsmtFinSF1       0.386420\n",
    "- LotFrontage      0.351799\n",
    "- 2ndFlrSF         0.322335\n",
    "- OpenPorchSF      0.315856\n",
    "\n",
    "\n",
    "#### Low Correlation: Correlation coefficient ∣r∣<0.3∣r∣<0.3\n",
    "\n",
    "- BsmtFinType1     0.275054\n",
    "- LotArea          0.263843\n",
    "- WoodDeckSF       0.252027\n",
    "- BsmtUnfSF        0.214479\n",
    "- BedroomAbvGr     0.161901\n",
    "- BsmtExposure     0.106263\n",
    "- OverallCond     -0.077856\n",
    "- EnclosedPorch   -0.176458"
   ]
  },
  {
   "cell_type": "markdown",
   "metadata": {},
   "source": [
    "---"
   ]
  },
  {
   "cell_type": "markdown",
   "metadata": {},
   "source": [
    "## Push files to Repo"
   ]
  },
  {
   "cell_type": "code",
   "execution_count": 16,
   "metadata": {},
   "outputs": [],
   "source": [
    "import os\n",
    "try:\n",
    "  os.makedirs(name='outputs/data_collected') # create data_collection folder\n",
    "except Exception as e:\n",
    "  print(e)"
   ]
  },
  {
   "cell_type": "code",
   "execution_count": 17,
   "metadata": {},
   "outputs": [],
   "source": [
    "df.to_csv(f\"outputs/data_collected/house_pricing_data.csv\",index=False)"
   ]
  }
 ],
 "metadata": {
  "kernelspec": {
   "display_name": "3.12.1",
   "language": "python",
   "name": "python3"
  },
  "language_info": {
   "codemirror_mode": {
    "name": "ipython",
    "version": 3
   },
   "file_extension": ".py",
   "mimetype": "text/x-python",
   "name": "python",
   "nbconvert_exporter": "python",
   "pygments_lexer": "ipython3",
   "version": "3.12.1"
  }
 },
 "nbformat": 4,
 "nbformat_minor": 2
}
