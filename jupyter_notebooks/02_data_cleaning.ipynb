{
 "cells": [
  {
   "cell_type": "markdown",
   "metadata": {},
   "source": [
    "# **Data Cleaning Notebook**"
   ]
  },
  {
   "cell_type": "markdown",
   "metadata": {},
   "source": [
    "## Objectives\n",
    "- Evaluate missing data\n",
    "- Clean data by converting data types, reduces the influence of extreme outliners, log transformation and box-cox / Yeo-Johnson transformation\n",
    "\n",
    "## Inputs\n",
    "- outputs/data_collection/house_price_data.csv\n",
    "\n",
    "## Outputs\n",
    "- Generate Dataset: outputs/cleaning/house_prive_data_cleaned.csv\n",
    "\n",
    "## Conclusion\n",
    "- Data cleaning pipeline\n",
    "- Drop Variables: [...]\n",
    "\n",
    "---"
   ]
  }
 ],
 "metadata": {
  "language_info": {
   "name": "python"
  }
 },
 "nbformat": 4,
 "nbformat_minor": 2
}
